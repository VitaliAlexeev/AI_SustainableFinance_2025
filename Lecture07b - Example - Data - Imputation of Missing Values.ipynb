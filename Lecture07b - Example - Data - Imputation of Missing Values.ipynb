{
 "cells": [
  {
   "cell_type": "markdown",
   "id": "45eff278-7911-4bc7-89c5-071fb13208be",
   "metadata": {},
   "source": [
    "# Imputation of missing values\n",
    "\r\n",
    "For various reasons, many real world datasets contain missing values, often encoded as blanks, NaN (Not-a-Number)s or other placeholders. Such datasets however are incompatible withmost libraries' functions andn estimators which assume that all values in an array are numerical, and that all have and hold meaning.\n",
    "\n",
    " A basic strategy to use incomplete datasets is to discard entire rows and/or columns containing missing values. However, this comes at the price of losing data which may be valuable (even though incomplete). A better strategy is to impute the missing values, i.e., to infer them from the known part of the data. See the glossary entry on imputation."
   ]
  },
  {
   "cell_type": "code",
   "execution_count": 2,
   "id": "ff90830d-fcaf-46f9-b419-f78edee1038d",
   "metadata": {},
   "outputs": [],
   "source": [
    "import pandas as pd\n",
    "import numpy as np\n",
    "\n",
    "from sklearn.impute import SimpleImputer\n",
    "from sklearn.impute import KNNImputer\n",
    "from sklearn.neighbors import NearestNeighbors\n",
    "\n",
    "import matplotlib.pyplot as plt\n",
    "import seaborn as sns\n",
    "import plotly.graph_objects as go\n",
    "from plotly.subplots import make_subplots"
   ]
  },
  {
   "cell_type": "markdown",
   "id": "0e4d6db2-15aa-417d-a00d-c18084df4082",
   "metadata": {},
   "source": [
    "## Filling Missing ESG Data\n",
    "\n",
    "### Example 1 [simple case]: Handling Missing Data in ESG Scores\n",
    " "
   ]
  },
  {
   "cell_type": "code",
   "execution_count": 3,
   "id": "4e95c984-54cd-4256-830b-942347042f90",
   "metadata": {},
   "outputs": [
    {
     "name": "stdout",
     "output_type": "stream",
     "text": [
      "Original Data:\n"
     ]
    },
    {
     "data": {
      "text/html": [
       "<div>\n",
       "<style scoped>\n",
       "    .dataframe tbody tr th:only-of-type {\n",
       "        vertical-align: middle;\n",
       "    }\n",
       "\n",
       "    .dataframe tbody tr th {\n",
       "        vertical-align: top;\n",
       "    }\n",
       "\n",
       "    .dataframe thead th {\n",
       "        text-align: right;\n",
       "    }\n",
       "</style>\n",
       "<table border=\"1\" class=\"dataframe\">\n",
       "  <thead>\n",
       "    <tr style=\"text-align: right;\">\n",
       "      <th></th>\n",
       "      <th>Company</th>\n",
       "      <th>ESG_Score</th>\n",
       "      <th>Environment_Score</th>\n",
       "      <th>Social_Score</th>\n",
       "      <th>Governance_Score</th>\n",
       "    </tr>\n",
       "  </thead>\n",
       "  <tbody>\n",
       "    <tr>\n",
       "      <th>0</th>\n",
       "      <td>Company A</td>\n",
       "      <td>50.0</td>\n",
       "      <td>30.0</td>\n",
       "      <td>NaN</td>\n",
       "      <td>70.0</td>\n",
       "    </tr>\n",
       "    <tr>\n",
       "      <th>1</th>\n",
       "      <td>Company B</td>\n",
       "      <td>NaN</td>\n",
       "      <td>40.0</td>\n",
       "      <td>55.0</td>\n",
       "      <td>NaN</td>\n",
       "    </tr>\n",
       "    <tr>\n",
       "      <th>2</th>\n",
       "      <td>Company C</td>\n",
       "      <td>75.0</td>\n",
       "      <td>NaN</td>\n",
       "      <td>60.0</td>\n",
       "      <td>80.0</td>\n",
       "    </tr>\n",
       "    <tr>\n",
       "      <th>3</th>\n",
       "      <td>Company D</td>\n",
       "      <td>85.0</td>\n",
       "      <td>70.0</td>\n",
       "      <td>NaN</td>\n",
       "      <td>85.0</td>\n",
       "    </tr>\n",
       "    <tr>\n",
       "      <th>4</th>\n",
       "      <td>Company E</td>\n",
       "      <td>NaN</td>\n",
       "      <td>60.0</td>\n",
       "      <td>50.0</td>\n",
       "      <td>NaN</td>\n",
       "    </tr>\n",
       "  </tbody>\n",
       "</table>\n",
       "</div>"
      ],
      "text/plain": [
       "     Company  ESG_Score  Environment_Score  Social_Score  Governance_Score\n",
       "0  Company A       50.0               30.0           NaN              70.0\n",
       "1  Company B        NaN               40.0          55.0               NaN\n",
       "2  Company C       75.0                NaN          60.0              80.0\n",
       "3  Company D       85.0               70.0           NaN              85.0\n",
       "4  Company E        NaN               60.0          50.0               NaN"
      ]
     },
     "metadata": {},
     "output_type": "display_data"
    }
   ],
   "source": [
    "data = {\n",
    "    'Company': ['Company A', 'Company B', 'Company C', 'Company D', 'Company E'],\n",
    "    'ESG_Score': [50, np.nan, 75, 85, np.nan],\n",
    "    'Environment_Score': [30, 40, np.nan, 70, 60],\n",
    "    'Social_Score': [np.nan, 55, 60, np.nan, 50],\n",
    "    'Governance_Score': [70, np.nan, 80, 85, np.nan]\n",
    "}\n",
    "\n",
    "df = pd.DataFrame(data)\n",
    "print(\"Original Data:\")\n",
    "display(df)"
   ]
  },
  {
   "cell_type": "markdown",
   "id": "54d60999-1dbb-4d4e-9e69-6937054e9004",
   "metadata": {},
   "source": [
    "#### Mean Imputation\n",
    "In this method, missing values are replaced by the mean of the corresponding column.\n",
    "- Mean imputation replaces missing values with the mean of the column.\n",
    "- This method assumes that missing values are randomly distributed, but it can be affected by outliers."
   ]
  },
  {
   "cell_type": "code",
   "execution_count": 4,
   "id": "1fccc3b0-37db-40cd-8a74-7a90b0084a5b",
   "metadata": {},
   "outputs": [
    {
     "name": "stdout",
     "output_type": "stream",
     "text": [
      "\n",
      "Mean Imputation:\n"
     ]
    },
    {
     "data": {
      "text/html": [
       "<div>\n",
       "<style scoped>\n",
       "    .dataframe tbody tr th:only-of-type {\n",
       "        vertical-align: middle;\n",
       "    }\n",
       "\n",
       "    .dataframe tbody tr th {\n",
       "        vertical-align: top;\n",
       "    }\n",
       "\n",
       "    .dataframe thead th {\n",
       "        text-align: right;\n",
       "    }\n",
       "</style>\n",
       "<table border=\"1\" class=\"dataframe\">\n",
       "  <thead>\n",
       "    <tr style=\"text-align: right;\">\n",
       "      <th></th>\n",
       "      <th>Company</th>\n",
       "      <th>ESG_Score</th>\n",
       "      <th>Environment_Score</th>\n",
       "      <th>Social_Score</th>\n",
       "      <th>Governance_Score</th>\n",
       "    </tr>\n",
       "  </thead>\n",
       "  <tbody>\n",
       "    <tr>\n",
       "      <th>0</th>\n",
       "      <td>Company A</td>\n",
       "      <td>50.0</td>\n",
       "      <td>30.0</td>\n",
       "      <td>55.0</td>\n",
       "      <td>70.000000</td>\n",
       "    </tr>\n",
       "    <tr>\n",
       "      <th>1</th>\n",
       "      <td>Company B</td>\n",
       "      <td>70.0</td>\n",
       "      <td>40.0</td>\n",
       "      <td>55.0</td>\n",
       "      <td>78.333333</td>\n",
       "    </tr>\n",
       "    <tr>\n",
       "      <th>2</th>\n",
       "      <td>Company C</td>\n",
       "      <td>75.0</td>\n",
       "      <td>50.0</td>\n",
       "      <td>60.0</td>\n",
       "      <td>80.000000</td>\n",
       "    </tr>\n",
       "    <tr>\n",
       "      <th>3</th>\n",
       "      <td>Company D</td>\n",
       "      <td>85.0</td>\n",
       "      <td>70.0</td>\n",
       "      <td>55.0</td>\n",
       "      <td>85.000000</td>\n",
       "    </tr>\n",
       "    <tr>\n",
       "      <th>4</th>\n",
       "      <td>Company E</td>\n",
       "      <td>70.0</td>\n",
       "      <td>60.0</td>\n",
       "      <td>50.0</td>\n",
       "      <td>78.333333</td>\n",
       "    </tr>\n",
       "  </tbody>\n",
       "</table>\n",
       "</div>"
      ],
      "text/plain": [
       "     Company  ESG_Score  Environment_Score  Social_Score  Governance_Score\n",
       "0  Company A       50.0               30.0          55.0         70.000000\n",
       "1  Company B       70.0               40.0          55.0         78.333333\n",
       "2  Company C       75.0               50.0          60.0         80.000000\n",
       "3  Company D       85.0               70.0          55.0         85.000000\n",
       "4  Company E       70.0               60.0          50.0         78.333333"
      ]
     },
     "metadata": {},
     "output_type": "display_data"
    }
   ],
   "source": [
    "# Imputation with the mean value\n",
    "mean_imputer = SimpleImputer(strategy='mean')\n",
    "df_mean = df.copy()\n",
    "df_mean[['ESG_Score', 'Environment_Score', 'Social_Score', 'Governance_Score']] = mean_imputer.fit_transform(df[['ESG_Score', 'Environment_Score', 'Social_Score', 'Governance_Score']])\n",
    "\n",
    "print(\"\\nMean Imputation:\")\n",
    "display(df_mean)"
   ]
  },
  {
   "cell_type": "markdown",
   "id": "c511a452-8bda-4451-a400-b03faf8f4312",
   "metadata": {},
   "source": [
    "#### Median Imputation\n",
    "In this method, missing values are replaced by the median of the corresponding column.\n",
    "- Median imputation is less sensitive to outliers compared to mean imputation.\n",
    "- It is useful when the data is skewed, as it replaces missing values with the middle value of the column."
   ]
  },
  {
   "cell_type": "code",
   "execution_count": 5,
   "id": "f1511342-bbbb-4806-8f25-2169915198e5",
   "metadata": {},
   "outputs": [
    {
     "name": "stdout",
     "output_type": "stream",
     "text": [
      "\n",
      "Median Imputation:\n"
     ]
    },
    {
     "data": {
      "text/html": [
       "<div>\n",
       "<style scoped>\n",
       "    .dataframe tbody tr th:only-of-type {\n",
       "        vertical-align: middle;\n",
       "    }\n",
       "\n",
       "    .dataframe tbody tr th {\n",
       "        vertical-align: top;\n",
       "    }\n",
       "\n",
       "    .dataframe thead th {\n",
       "        text-align: right;\n",
       "    }\n",
       "</style>\n",
       "<table border=\"1\" class=\"dataframe\">\n",
       "  <thead>\n",
       "    <tr style=\"text-align: right;\">\n",
       "      <th></th>\n",
       "      <th>Company</th>\n",
       "      <th>ESG_Score</th>\n",
       "      <th>Environment_Score</th>\n",
       "      <th>Social_Score</th>\n",
       "      <th>Governance_Score</th>\n",
       "    </tr>\n",
       "  </thead>\n",
       "  <tbody>\n",
       "    <tr>\n",
       "      <th>0</th>\n",
       "      <td>Company A</td>\n",
       "      <td>50.0</td>\n",
       "      <td>30.0</td>\n",
       "      <td>55.0</td>\n",
       "      <td>70.0</td>\n",
       "    </tr>\n",
       "    <tr>\n",
       "      <th>1</th>\n",
       "      <td>Company B</td>\n",
       "      <td>75.0</td>\n",
       "      <td>40.0</td>\n",
       "      <td>55.0</td>\n",
       "      <td>80.0</td>\n",
       "    </tr>\n",
       "    <tr>\n",
       "      <th>2</th>\n",
       "      <td>Company C</td>\n",
       "      <td>75.0</td>\n",
       "      <td>50.0</td>\n",
       "      <td>60.0</td>\n",
       "      <td>80.0</td>\n",
       "    </tr>\n",
       "    <tr>\n",
       "      <th>3</th>\n",
       "      <td>Company D</td>\n",
       "      <td>85.0</td>\n",
       "      <td>70.0</td>\n",
       "      <td>55.0</td>\n",
       "      <td>85.0</td>\n",
       "    </tr>\n",
       "    <tr>\n",
       "      <th>4</th>\n",
       "      <td>Company E</td>\n",
       "      <td>75.0</td>\n",
       "      <td>60.0</td>\n",
       "      <td>50.0</td>\n",
       "      <td>80.0</td>\n",
       "    </tr>\n",
       "  </tbody>\n",
       "</table>\n",
       "</div>"
      ],
      "text/plain": [
       "     Company  ESG_Score  Environment_Score  Social_Score  Governance_Score\n",
       "0  Company A       50.0               30.0          55.0              70.0\n",
       "1  Company B       75.0               40.0          55.0              80.0\n",
       "2  Company C       75.0               50.0          60.0              80.0\n",
       "3  Company D       85.0               70.0          55.0              85.0\n",
       "4  Company E       75.0               60.0          50.0              80.0"
      ]
     },
     "metadata": {},
     "output_type": "display_data"
    }
   ],
   "source": [
    "# Imputation with the median value\n",
    "median_imputer = SimpleImputer(strategy='median')\n",
    "df_median = df.copy()\n",
    "df_median[['ESG_Score', 'Environment_Score', 'Social_Score', 'Governance_Score']] = median_imputer.fit_transform(df[['ESG_Score', 'Environment_Score', 'Social_Score', 'Governance_Score']])\n",
    "\n",
    "print(\"\\nMedian Imputation:\")\n",
    "display(df_median)"
   ]
  },
  {
   "cell_type": "markdown",
   "id": "2b679c18-a622-4bc5-a3ca-a49d848bab8d",
   "metadata": {},
   "source": [
    "#### Mode Imputation (Most Frequent)\n",
    "In this method, missing values are replaced by the most frequent value (mode) in the corresponding column.\n",
    "- Mode imputation replaces missing values with the most frequent value in the column.\n",
    "- This method is particularly useful for categorical data but can also be applied to numerical data when the distribution has clear frequency patterns."
   ]
  },
  {
   "cell_type": "code",
   "execution_count": 6,
   "id": "213d3d11-cd86-4731-abbc-6db65868858d",
   "metadata": {},
   "outputs": [
    {
     "name": "stdout",
     "output_type": "stream",
     "text": [
      "\n",
      "Mode (Most Frequent) Imputation:\n"
     ]
    },
    {
     "data": {
      "text/html": [
       "<div>\n",
       "<style scoped>\n",
       "    .dataframe tbody tr th:only-of-type {\n",
       "        vertical-align: middle;\n",
       "    }\n",
       "\n",
       "    .dataframe tbody tr th {\n",
       "        vertical-align: top;\n",
       "    }\n",
       "\n",
       "    .dataframe thead th {\n",
       "        text-align: right;\n",
       "    }\n",
       "</style>\n",
       "<table border=\"1\" class=\"dataframe\">\n",
       "  <thead>\n",
       "    <tr style=\"text-align: right;\">\n",
       "      <th></th>\n",
       "      <th>Company</th>\n",
       "      <th>ESG_Score</th>\n",
       "      <th>Environment_Score</th>\n",
       "      <th>Social_Score</th>\n",
       "      <th>Governance_Score</th>\n",
       "    </tr>\n",
       "  </thead>\n",
       "  <tbody>\n",
       "    <tr>\n",
       "      <th>0</th>\n",
       "      <td>Company A</td>\n",
       "      <td>50.0</td>\n",
       "      <td>30.0</td>\n",
       "      <td>50.0</td>\n",
       "      <td>70.0</td>\n",
       "    </tr>\n",
       "    <tr>\n",
       "      <th>1</th>\n",
       "      <td>Company B</td>\n",
       "      <td>50.0</td>\n",
       "      <td>40.0</td>\n",
       "      <td>55.0</td>\n",
       "      <td>70.0</td>\n",
       "    </tr>\n",
       "    <tr>\n",
       "      <th>2</th>\n",
       "      <td>Company C</td>\n",
       "      <td>75.0</td>\n",
       "      <td>30.0</td>\n",
       "      <td>60.0</td>\n",
       "      <td>80.0</td>\n",
       "    </tr>\n",
       "    <tr>\n",
       "      <th>3</th>\n",
       "      <td>Company D</td>\n",
       "      <td>85.0</td>\n",
       "      <td>70.0</td>\n",
       "      <td>50.0</td>\n",
       "      <td>85.0</td>\n",
       "    </tr>\n",
       "    <tr>\n",
       "      <th>4</th>\n",
       "      <td>Company E</td>\n",
       "      <td>50.0</td>\n",
       "      <td>60.0</td>\n",
       "      <td>50.0</td>\n",
       "      <td>70.0</td>\n",
       "    </tr>\n",
       "  </tbody>\n",
       "</table>\n",
       "</div>"
      ],
      "text/plain": [
       "     Company  ESG_Score  Environment_Score  Social_Score  Governance_Score\n",
       "0  Company A       50.0               30.0          50.0              70.0\n",
       "1  Company B       50.0               40.0          55.0              70.0\n",
       "2  Company C       75.0               30.0          60.0              80.0\n",
       "3  Company D       85.0               70.0          50.0              85.0\n",
       "4  Company E       50.0               60.0          50.0              70.0"
      ]
     },
     "metadata": {},
     "output_type": "display_data"
    }
   ],
   "source": [
    "# Imputation with the most frequent (mode) value\n",
    "mode_imputer = SimpleImputer(strategy='most_frequent')\n",
    "df_mode = df.copy()\n",
    "df_mode[['ESG_Score', 'Environment_Score', 'Social_Score', 'Governance_Score']] = mode_imputer.fit_transform(df[['ESG_Score', 'Environment_Score', 'Social_Score', 'Governance_Score']])\n",
    "\n",
    "print(\"\\nMode (Most Frequent) Imputation:\")\n",
    "display(df_mode)"
   ]
  },
  {
   "cell_type": "markdown",
   "id": "7a19d584-7325-42a7-943b-ac8f3991fa04",
   "metadata": {},
   "source": [
    "#### Constant Imputation\n",
    "In this method, missing values are replaced by a constant value provided by the user (e.g., zero or a specific domain-relevant value).\n",
    "- Constant imputation allows you to replace missing values with a specific number.\n",
    "- This method is useful when missing values have a meaningful replacement (e.g., filling missing numerical values with zero if they are assumed to have no impact)."
   ]
  },
  {
   "cell_type": "code",
   "execution_count": 7,
   "id": "96a1df43-5f11-4f8b-a487-43b67fdb224c",
   "metadata": {},
   "outputs": [
    {
     "name": "stdout",
     "output_type": "stream",
     "text": [
      "\n",
      "Constant Imputation (filling with 0):\n"
     ]
    },
    {
     "data": {
      "text/html": [
       "<div>\n",
       "<style scoped>\n",
       "    .dataframe tbody tr th:only-of-type {\n",
       "        vertical-align: middle;\n",
       "    }\n",
       "\n",
       "    .dataframe tbody tr th {\n",
       "        vertical-align: top;\n",
       "    }\n",
       "\n",
       "    .dataframe thead th {\n",
       "        text-align: right;\n",
       "    }\n",
       "</style>\n",
       "<table border=\"1\" class=\"dataframe\">\n",
       "  <thead>\n",
       "    <tr style=\"text-align: right;\">\n",
       "      <th></th>\n",
       "      <th>Company</th>\n",
       "      <th>ESG_Score</th>\n",
       "      <th>Environment_Score</th>\n",
       "      <th>Social_Score</th>\n",
       "      <th>Governance_Score</th>\n",
       "    </tr>\n",
       "  </thead>\n",
       "  <tbody>\n",
       "    <tr>\n",
       "      <th>0</th>\n",
       "      <td>Company A</td>\n",
       "      <td>50.0</td>\n",
       "      <td>30.0</td>\n",
       "      <td>0.0</td>\n",
       "      <td>70.0</td>\n",
       "    </tr>\n",
       "    <tr>\n",
       "      <th>1</th>\n",
       "      <td>Company B</td>\n",
       "      <td>0.0</td>\n",
       "      <td>40.0</td>\n",
       "      <td>55.0</td>\n",
       "      <td>0.0</td>\n",
       "    </tr>\n",
       "    <tr>\n",
       "      <th>2</th>\n",
       "      <td>Company C</td>\n",
       "      <td>75.0</td>\n",
       "      <td>0.0</td>\n",
       "      <td>60.0</td>\n",
       "      <td>80.0</td>\n",
       "    </tr>\n",
       "    <tr>\n",
       "      <th>3</th>\n",
       "      <td>Company D</td>\n",
       "      <td>85.0</td>\n",
       "      <td>70.0</td>\n",
       "      <td>0.0</td>\n",
       "      <td>85.0</td>\n",
       "    </tr>\n",
       "    <tr>\n",
       "      <th>4</th>\n",
       "      <td>Company E</td>\n",
       "      <td>0.0</td>\n",
       "      <td>60.0</td>\n",
       "      <td>50.0</td>\n",
       "      <td>0.0</td>\n",
       "    </tr>\n",
       "  </tbody>\n",
       "</table>\n",
       "</div>"
      ],
      "text/plain": [
       "     Company  ESG_Score  Environment_Score  Social_Score  Governance_Score\n",
       "0  Company A       50.0               30.0           0.0              70.0\n",
       "1  Company B        0.0               40.0          55.0               0.0\n",
       "2  Company C       75.0                0.0          60.0              80.0\n",
       "3  Company D       85.0               70.0           0.0              85.0\n",
       "4  Company E        0.0               60.0          50.0               0.0"
      ]
     },
     "metadata": {},
     "output_type": "display_data"
    }
   ],
   "source": [
    "# Imputation with a constant value (e.g., 0)\n",
    "constant_imputer = SimpleImputer(strategy='constant', fill_value=0)\n",
    "df_constant = df.copy()\n",
    "df_constant[['ESG_Score', 'Environment_Score', 'Social_Score', 'Governance_Score']] = constant_imputer.fit_transform(df[['ESG_Score', 'Environment_Score', 'Social_Score', 'Governance_Score']])\n",
    "\n",
    "print(\"\\nConstant Imputation (filling with 0):\")\n",
    "display(df_constant)"
   ]
  },
  {
   "cell_type": "markdown",
   "id": "5b16fbbb-ea4e-42e9-92c9-28e62d5a3b60",
   "metadata": {},
   "source": [
    "### K-Nearest Neighbors (KNN) Imputation\n",
    "\n",
    "This advanced technique uses the k nearest neighbors to impute missing values based on similarity between samples.\n",
    "- KNN imputation fills missing values by finding the k nearest samples (in terms of distance) and averaging their values.\n",
    "- This method is more computationally intensive but often yields better results, as it considers the similarity between data points."
   ]
  },
  {
   "cell_type": "code",
   "execution_count": 8,
   "id": "c2b557f6-9d9d-4dc8-a358-ade04292d809",
   "metadata": {},
   "outputs": [
    {
     "name": "stdout",
     "output_type": "stream",
     "text": [
      "\n",
      "KNN Imputation:\n"
     ]
    },
    {
     "data": {
      "text/html": [
       "<div>\n",
       "<style scoped>\n",
       "    .dataframe tbody tr th:only-of-type {\n",
       "        vertical-align: middle;\n",
       "    }\n",
       "\n",
       "    .dataframe tbody tr th {\n",
       "        vertical-align: top;\n",
       "    }\n",
       "\n",
       "    .dataframe thead th {\n",
       "        text-align: right;\n",
       "    }\n",
       "</style>\n",
       "<table border=\"1\" class=\"dataframe\">\n",
       "  <thead>\n",
       "    <tr style=\"text-align: right;\">\n",
       "      <th></th>\n",
       "      <th>Company</th>\n",
       "      <th>ESG_Score</th>\n",
       "      <th>Environment_Score</th>\n",
       "      <th>Social_Score</th>\n",
       "      <th>Governance_Score</th>\n",
       "    </tr>\n",
       "  </thead>\n",
       "  <tbody>\n",
       "    <tr>\n",
       "      <th>0</th>\n",
       "      <td>Company A</td>\n",
       "      <td>50.0</td>\n",
       "      <td>30.0</td>\n",
       "      <td>57.5</td>\n",
       "      <td>70.0</td>\n",
       "    </tr>\n",
       "    <tr>\n",
       "      <th>1</th>\n",
       "      <td>Company B</td>\n",
       "      <td>62.5</td>\n",
       "      <td>40.0</td>\n",
       "      <td>55.0</td>\n",
       "      <td>75.0</td>\n",
       "    </tr>\n",
       "    <tr>\n",
       "      <th>2</th>\n",
       "      <td>Company C</td>\n",
       "      <td>75.0</td>\n",
       "      <td>55.0</td>\n",
       "      <td>60.0</td>\n",
       "      <td>80.0</td>\n",
       "    </tr>\n",
       "    <tr>\n",
       "      <th>3</th>\n",
       "      <td>Company D</td>\n",
       "      <td>85.0</td>\n",
       "      <td>70.0</td>\n",
       "      <td>55.0</td>\n",
       "      <td>85.0</td>\n",
       "    </tr>\n",
       "    <tr>\n",
       "      <th>4</th>\n",
       "      <td>Company E</td>\n",
       "      <td>80.0</td>\n",
       "      <td>60.0</td>\n",
       "      <td>50.0</td>\n",
       "      <td>82.5</td>\n",
       "    </tr>\n",
       "  </tbody>\n",
       "</table>\n",
       "</div>"
      ],
      "text/plain": [
       "     Company  ESG_Score  Environment_Score  Social_Score  Governance_Score\n",
       "0  Company A       50.0               30.0          57.5              70.0\n",
       "1  Company B       62.5               40.0          55.0              75.0\n",
       "2  Company C       75.0               55.0          60.0              80.0\n",
       "3  Company D       85.0               70.0          55.0              85.0\n",
       "4  Company E       80.0               60.0          50.0              82.5"
      ]
     },
     "metadata": {},
     "output_type": "display_data"
    }
   ],
   "source": [
    "from sklearn.impute import KNNImputer\n",
    "\n",
    "# Imputation with KNN\n",
    "knn_imputer = KNNImputer(n_neighbors=2)\n",
    "df_knn = df.copy()\n",
    "df_knn[['ESG_Score', 'Environment_Score', 'Social_Score', 'Governance_Score']] = knn_imputer.fit_transform(df[['ESG_Score', 'Environment_Score', 'Social_Score', 'Governance_Score']])\n",
    "\n",
    "print(\"\\nKNN Imputation:\")\n",
    "display(df_knn)"
   ]
  },
  {
   "cell_type": "markdown",
   "id": "c83d42b5-594e-47da-b1e8-9349391ba5ed",
   "metadata": {},
   "source": [
    "#### How does KNN work?"
   ]
  },
  {
   "cell_type": "code",
   "execution_count": 10,
   "id": "36893767-848e-4fad-82d2-0787e372cba9",
   "metadata": {},
   "outputs": [
    {
     "name": "stdout",
     "output_type": "stream",
     "text": [
      "Original data table:\n"
     ]
    },
    {
     "data": {
      "text/html": [
       "<div>\n",
       "<style scoped>\n",
       "    .dataframe tbody tr th:only-of-type {\n",
       "        vertical-align: middle;\n",
       "    }\n",
       "\n",
       "    .dataframe tbody tr th {\n",
       "        vertical-align: top;\n",
       "    }\n",
       "\n",
       "    .dataframe thead th {\n",
       "        text-align: right;\n",
       "    }\n",
       "</style>\n",
       "<table border=\"1\" class=\"dataframe\">\n",
       "  <thead>\n",
       "    <tr style=\"text-align: right;\">\n",
       "      <th></th>\n",
       "      <th>ESG_Score</th>\n",
       "      <th>Environment_Score</th>\n",
       "    </tr>\n",
       "  </thead>\n",
       "  <tbody>\n",
       "    <tr>\n",
       "      <th>0</th>\n",
       "      <td>50.0</td>\n",
       "      <td>30.0</td>\n",
       "    </tr>\n",
       "    <tr>\n",
       "      <th>1</th>\n",
       "      <td>NaN</td>\n",
       "      <td>40.0</td>\n",
       "    </tr>\n",
       "    <tr>\n",
       "      <th>2</th>\n",
       "      <td>75.0</td>\n",
       "      <td>NaN</td>\n",
       "    </tr>\n",
       "    <tr>\n",
       "      <th>3</th>\n",
       "      <td>85.0</td>\n",
       "      <td>70.0</td>\n",
       "    </tr>\n",
       "    <tr>\n",
       "      <th>4</th>\n",
       "      <td>NaN</td>\n",
       "      <td>60.0</td>\n",
       "    </tr>\n",
       "    <tr>\n",
       "      <th>5</th>\n",
       "      <td>60.0</td>\n",
       "      <td>NaN</td>\n",
       "    </tr>\n",
       "    <tr>\n",
       "      <th>6</th>\n",
       "      <td>90.0</td>\n",
       "      <td>95.0</td>\n",
       "    </tr>\n",
       "  </tbody>\n",
       "</table>\n",
       "</div>"
      ],
      "text/plain": [
       "   ESG_Score  Environment_Score\n",
       "0       50.0               30.0\n",
       "1        NaN               40.0\n",
       "2       75.0                NaN\n",
       "3       85.0               70.0\n",
       "4        NaN               60.0\n",
       "5       60.0                NaN\n",
       "6       90.0               95.0"
      ]
     },
     "metadata": {},
     "output_type": "display_data"
    },
    {
     "name": "stdout",
     "output_type": "stream",
     "text": [
      "Imputed data table:\n"
     ]
    },
    {
     "data": {
      "text/html": [
       "<div>\n",
       "<style scoped>\n",
       "    .dataframe tbody tr th:only-of-type {\n",
       "        vertical-align: middle;\n",
       "    }\n",
       "\n",
       "    .dataframe tbody tr th {\n",
       "        vertical-align: top;\n",
       "    }\n",
       "\n",
       "    .dataframe thead th {\n",
       "        text-align: right;\n",
       "    }\n",
       "</style>\n",
       "<table border=\"1\" class=\"dataframe\">\n",
       "  <thead>\n",
       "    <tr style=\"text-align: right;\">\n",
       "      <th></th>\n",
       "      <th>ESG_Score</th>\n",
       "      <th>Environment_Score</th>\n",
       "    </tr>\n",
       "  </thead>\n",
       "  <tbody>\n",
       "    <tr>\n",
       "      <th>0</th>\n",
       "      <td>50.0</td>\n",
       "      <td>30.0</td>\n",
       "    </tr>\n",
       "    <tr>\n",
       "      <th>1</th>\n",
       "      <td>67.5</td>\n",
       "      <td>40.0</td>\n",
       "    </tr>\n",
       "    <tr>\n",
       "      <th>2</th>\n",
       "      <td>75.0</td>\n",
       "      <td>82.5</td>\n",
       "    </tr>\n",
       "    <tr>\n",
       "      <th>3</th>\n",
       "      <td>85.0</td>\n",
       "      <td>70.0</td>\n",
       "    </tr>\n",
       "    <tr>\n",
       "      <th>4</th>\n",
       "      <td>67.5</td>\n",
       "      <td>60.0</td>\n",
       "    </tr>\n",
       "    <tr>\n",
       "      <th>5</th>\n",
       "      <td>60.0</td>\n",
       "      <td>50.0</td>\n",
       "    </tr>\n",
       "    <tr>\n",
       "      <th>6</th>\n",
       "      <td>90.0</td>\n",
       "      <td>95.0</td>\n",
       "    </tr>\n",
       "  </tbody>\n",
       "</table>\n",
       "</div>"
      ],
      "text/plain": [
       "   ESG_Score  Environment_Score\n",
       "0       50.0               30.0\n",
       "1       67.5               40.0\n",
       "2       75.0               82.5\n",
       "3       85.0               70.0\n",
       "4       67.5               60.0\n",
       "5       60.0               50.0\n",
       "6       90.0               95.0"
      ]
     },
     "metadata": {},
     "output_type": "display_data"
    }
   ],
   "source": [
    "# Example dataset with missing values\n",
    "data = {\n",
    "    'ESG_Score': [50, np.nan, 75, 85, np.nan, 60, 90],\n",
    "    'Environment_Score': [30, 40, np.nan, 70, 60, np.nan, 95]\n",
    "}\n",
    "\n",
    "df = pd.DataFrame(data)\n",
    "print(\"Original data table:\")\n",
    "display(df)\n",
    "\n",
    "# Apply KNN Imputation\n",
    "knn_imputer = KNNImputer(n_neighbors=2)\n",
    "df_imputed = pd.DataFrame(knn_imputer.fit_transform(df), columns=df.columns)\n",
    "print(\"Imputed data table:\")\n",
    "display(df_imputed)"
   ]
  },
  {
   "cell_type": "markdown",
   "id": "0cb7031a-0be6-4081-a12a-a3981b4f37de",
   "metadata": {},
   "source": [
    "### Understanding KNNImputer with Step-by-Step Calculations\n",
    "\n",
    "We use **KNNImputer** to replace missing values (`NaN`) in the dataset by looking at the *k nearest rows* (neighbours) based on the distance between rows.\n",
    "\n",
    "#### Original Data\n",
    "\n",
    "| Row | ESG_Score | Environment_Score |\n",
    "|-----|-----------|-------------------|\n",
    "| 0   | 50.0      | 30.0              |\n",
    "| 1   | NaN       | 40.0              |\n",
    "| 2   | 75.0      | NaN               |\n",
    "| 3   | 85.0      | 70.0              |\n",
    "| 4   | NaN       | 60.0              |\n",
    "| 5   | 60.0      | NaN               |\n",
    "| 6   | 90.0      | 95.0              |\n",
    "\n",
    "We set **`n_neighbors = 2`**, so each missing value is imputed from the **two nearest rows** (Euclidean distance, ignoring features that are NaN in both).\n",
    "\n",
    "#### Step 1: Distance Formula\n",
    "\n",
    "For two rows *i* and *j*: $d(i,j) = \\sqrt{\\sum_{f \\in F_{ij}} (x_{i,f} - x_{j,f})^2}$\n",
    "\n",
    "- $F_{ij}$: features where both rows have values.  \n",
    "- Missing values are ignored when computing distance.\n",
    "\n",
    "#### Step 2: Imputation of Each NaN\n",
    "\n",
    "##### (a) Row 1, ESG_Score = NaN\n",
    "- Known value: Environment_Score = 40\n",
    "- Find neighbours by comparing Environment_Score distances.\n",
    "\n",
    "Distances:\n",
    "- Row 0: $|40-30| = 10$  \n",
    "- Row 3: $|40-70| = 30$  \n",
    "- Row 4: $|40-60| = 20$  \n",
    "- Row 6: $|40-95| = 55$\n",
    "\n",
    "Nearest 2: **Row 0 (ESG=50), Row 4 (ESG=NaN → ignored), Row 3 (ESG=85)**  \n",
    "Valid neighbours: Row 0 (50), Row 3 (85)  \n",
    "\n",
    "Imputation:  $\\text{ESG}_1 = \\frac{50 + 85}{2} = 67.5$\n",
    "\n",
    "\n",
    "##### (b) Row 2, Environment_Score = NaN\n",
    "- Known value: ESG_Score = 75\n",
    "- Compare ESG_Score distances.\n",
    "\n",
    "Distances:\n",
    "- Row 0: $|75-50| = 25$  \n",
    "- Row 3: $|75-85| = 10$  \n",
    "- Row 5: $|75-60| = 15$  \n",
    "- Row 6: $|75-90| = 15$\n",
    "\n",
    "Nearest 2: **Row 3 (Env=70), Row 5 (Env=NaN → ignored), Row 6 (Env=95)**  \n",
    "Valid neighbours: Row 3 (70), Row 6 (95)  \n",
    "\n",
    "Imputation:  $\\text{Env}_2 = \\frac{70 + 95}{2} = 82.5$\n",
    "\n",
    "##### (c) Row 4, ESG_Score = NaN\n",
    "- Known value: Environment_Score = 60\n",
    "\n",
    "Distances:\n",
    "- Row 1: $|60-40| = 20$  \n",
    "- Row 3: $|60-70| = 10$  \n",
    "- Row 6: $|60-95| = 35$\n",
    "\n",
    "Nearest 2: **Row 3 (ESG=85), Row 1 (ESG=NaN → ignored), Row 0 (ESG=50)**  \n",
    "Valid neighbours: Row 3 (85), Row 0 (50)  \n",
    "\n",
    "Imputation:  $\\text{ESG}_4 = \\frac{85 + 50}{2} = 67.5$\n",
    "\n",
    "\n",
    "##### (d) Row 5, Environment_Score = NaN\n",
    "- Known value: ESG_Score = 60\n",
    "\n",
    "Distances:\n",
    "- Row 0: $|60-50| = 10$  \n",
    "- Row 2: $|60-75| = 15$  \n",
    "- Row 3: $|60-85| = 25$\n",
    "\n",
    "Nearest 2: **Row 0 (Env=30), Row 2 (Env=NaN → ignored), Row 3 (Env=70)**  \n",
    "Valid neighbours: Row 0 (30), Row 3 (70)  \n",
    "\n",
    "Imputation:  $\\text{Env}_5 = \\frac{30 + 70}{2} = 50.0$\n",
    "\n",
    "\n",
    "### Final Imputed Table\n",
    "\n",
    "| Row | ESG_Score | Environment_Score |\n",
    "|-----|-----------|-------------------|\n",
    "| 0   | 50.0      | 30.0              |\n",
    "| 1   | 67.5      | 40.0              |\n",
    "| 2   | 75.0      | 82.5              |\n",
    "| 3   | 85.0      | 70.0              |\n",
    "| 4   | 67.5      | 60.0              |\n",
    "| 5   | 60.0      | 50.0              |\n",
    "| 6   | 90.0      | 95.0              |\n",
    "\n",
    "### Summary\n",
    "- **KNNImputer** replaces each missing value with the **average of its k nearest neighbours** (here, `k=2`).  \n",
    "- Distance is based only on features that are not NaN.  \n",
    "- Neighbours without the target value are ignored.  \n",
    "- The result is a smooth imputation that respects local data structure.\n"
   ]
  },
  {
   "cell_type": "code",
   "execution_count": 11,
   "id": "2b6e20d3-a54b-4eca-ae56-fd09ed166e7f",
   "metadata": {},
   "outputs": [
    {
     "data": {
      "image/png": "[encoded data removed]",
      "text/plain": [
       "<Figure size 1000x500 with 2 Axes>"
      ]
     },
     "metadata": {},
     "output_type": "display_data"
    }
   ],
   "source": [
    "# Scatter plot of the original data with missing values\n",
    "plt.figure(figsize=(10, 5))\n",
    "\n",
    "plt.subplot(1, 2, 1)\n",
    "sns.scatterplot(x='ESG_Score', y='Environment_Score', data=df, marker='o', color='blue', s=100)\n",
    "plt.title('Original Data with Missing Values')\n",
    "plt.xlabel('ESG_Score')\n",
    "plt.ylabel('Environment_Score')\n",
    "plt.grid(True)\n",
    "\n",
    "# Scatter plot of the data after KNN imputation\n",
    "plt.subplot(1, 2, 2)\n",
    "sns.scatterplot(x='ESG_Score', y='Environment_Score', data=df_imputed, marker='o', color='green', s=100)\n",
    "plt.title('Data after KNN Imputation')\n",
    "plt.xlabel('ESG_Score')\n",
    "plt.ylabel('Environment_Score')\n",
    "plt.grid(True)\n",
    "\n",
    "# Highlighting imputed points\n",
    "imputed_mask = df.isnull().any(axis=1)\n",
    "sns.scatterplot(x='ESG_Score', y='Environment_Score', data=df_imputed[imputed_mask], marker='X', color='red', s=150, label='Imputed Values')\n",
    "\n",
    "plt.legend()\n",
    "plt.tight_layout()\n",
    "plt.show()"
   ]
  },
  {
   "cell_type": "code",
   "execution_count": 30,
   "id": "bb635448-3e99-4732-88ed-f8c22df93abf",
   "metadata": {},
   "outputs": [
    {
     "data": {
      "text/html": [
       "<div>\n",
       "<style scoped>\n",
       "    .dataframe tbody tr th:only-of-type {\n",
       "        vertical-align: middle;\n",
       "    }\n",
       "\n",
       "    .dataframe tbody tr th {\n",
       "        vertical-align: top;\n",
       "    }\n",
       "\n",
       "    .dataframe thead th {\n",
       "        text-align: right;\n",
       "    }\n",
       "</style>\n",
       "<table border=\"1\" class=\"dataframe\">\n",
       "  <thead>\n",
       "    <tr style=\"text-align: right;\">\n",
       "      <th></th>\n",
       "      <th>ESG_Score</th>\n",
       "      <th>Environment_Score</th>\n",
       "    </tr>\n",
       "  </thead>\n",
       "  <tbody>\n",
       "    <tr>\n",
       "      <th>0</th>\n",
       "      <td>50.0</td>\n",
       "      <td>30.0</td>\n",
       "    </tr>\n",
       "    <tr>\n",
       "      <th>1</th>\n",
       "      <td>NaN</td>\n",
       "      <td>40.0</td>\n",
       "    </tr>\n",
       "    <tr>\n",
       "      <th>2</th>\n",
       "      <td>75.0</td>\n",
       "      <td>NaN</td>\n",
       "    </tr>\n",
       "    <tr>\n",
       "      <th>3</th>\n",
       "      <td>85.0</td>\n",
       "      <td>70.0</td>\n",
       "    </tr>\n",
       "    <tr>\n",
       "      <th>4</th>\n",
       "      <td>NaN</td>\n",
       "      <td>60.0</td>\n",
       "    </tr>\n",
       "    <tr>\n",
       "      <th>5</th>\n",
       "      <td>60.0</td>\n",
       "      <td>NaN</td>\n",
       "    </tr>\n",
       "    <tr>\n",
       "      <th>6</th>\n",
       "      <td>90.0</td>\n",
       "      <td>95.0</td>\n",
       "    </tr>\n",
       "  </tbody>\n",
       "</table>\n",
       "</div>"
      ],
      "text/plain": [
       "   ESG_Score  Environment_Score\n",
       "0       50.0               30.0\n",
       "1        NaN               40.0\n",
       "2       75.0                NaN\n",
       "3       85.0               70.0\n",
       "4        NaN               60.0\n",
       "5       60.0                NaN\n",
       "6       90.0               95.0"
      ]
     },
     "execution_count": 30,
     "metadata": {},
     "output_type": "execute_result"
    }
   ],
   "source": [
    "df"
   ]
  },
  {
   "cell_type": "markdown",
   "id": "9f8782b9-b487-4312-bb1d-034313f00d18",
   "metadata": {},
   "source": [
    "Let's create the same graph but using plotly:"
   ]
  },
  {
   "cell_type": "code",
   "execution_count": 12,
   "id": "3565b063-eb55-48c3-b6b6-26ac9eca8fa3",
   "metadata": {},
   "outputs": [
    {
     "data": {
      "application/vnd.plotly.v1+json": {
       "config": {
        "plotlyServerURL": "https://plot.ly"
       },
       "data": [
        {
         "marker": {
          "color": "blue",
          "size": 10
         },
         "mode": "markers",
         "name": "Original Data",
         "text": [
          "Original",
          "Original",
          "Original",
          "Original",
          "Original",
          "Original",
          "Original"
         ],
         "type": "scatter",
         "x": {
          "bdata": "AAAAAAAASUAAAAAAAAD4fwAAAAAAwFJAAAAAAABAVUAAAAAAAAD4fwAAAAAAAE5AAAAAAACAVkA=",
          "dtype": "f8"
         },
         "xaxis": "x",
         "y": {
          "bdata": "AAAAAAAAPkAAAAAAAABEQAAAAAAAAPh/AAAAAACAUUAAAAAAAABOQAAAAAAAAPh/AAAAAADAV0A=",
          "dtype": "f8"
         },
         "yaxis": "y"
        },
        {
         "marker": {
          "color": "green",
          "size": 10,
          "symbol": "circle"
         },
         "mode": "markers",
         "name": "Non-Imputed Data (After Imputation)",
         "text": [
          "Non-Imputed",
          "Non-Imputed",
          "Non-Imputed"
         ],
         "type": "scatter",
         "x": {
          "bdata": "AAAAAAAASUAAAAAAAEBVQAAAAAAAgFZA",
          "dtype": "f8"
         },
         "xaxis": "x2",
         "y": {
          "bdata": "AAAAAAAAPkAAAAAAAIBRQAAAAAAAwFdA",
          "dtype": "f8"
         },
         "yaxis": "y2"
        },
        {
         "marker": {
          "color": "red",
          "size": 12,
          "symbol": "x"
         },
         "mode": "markers",
         "name": "Imputed Data",
         "text": [
          "Imputed",
          "Imputed",
          "Imputed",
          "Imputed"
         ],
         "type": "scatter",
         "x": {
          "bdata": "AAAAAADgUEAAAAAAAMBSQAAAAAAA4FBAAAAAAAAATkA=",
          "dtype": "f8"
         },
         "xaxis": "x2",
         "y": {
          "bdata": "AAAAAAAAREAAAAAAAKBUQAAAAAAAAE5AAAAAAAAASUA=",
          "dtype": "f8"
         },
         "yaxis": "y2"
        }
       ],
       "layout": {
        "annotations": [
         {
          "font": {
           "size": 16
          },
          "showarrow": false,
          "text": "Original Data with Missing Values",
          "x": 0.225,
          "xanchor": "center",
          "xref": "paper",
          "y": 1,
          "yanchor": "bottom",
          "yref": "paper"
         },
         {
          "font": {
           "size": 16
          },
          "showarrow": false,
          "text": "Data after KNN Imputation",
          "x": 0.775,
          "xanchor": "center",
          "xref": "paper",
          "y": 1,
          "yanchor": "bottom",
          "yref": "paper"
         }
        ],
        "height": 500,
        "legend": {
         "title": {
          "text": "Data Type"
         }
        },
        "template": {
         "data": {
          "bar": [
           {
            "error_x": {
             "color": "#2a3f5f"
            },
            "error_y": {
             "color": "#2a3f5f"
            },
            "marker": {
             "line": {
              "color": "white",
              "width": 0.5
             },
             "pattern": {
              "fillmode": "overlay",
              "size": 10,
              "solidity": 0.2
             }
            },
            "type": "bar"
           }
          ],
          "barpolar": [
           {
            "marker": {
             "line": {
              "color": "white",
              "width": 0.5
             },
             "pattern": {
              "fillmode": "overlay",
              "size": 10,
              "solidity": 0.2
             }
            },
            "type": "barpolar"
           }
          ],
          "carpet": [
           {
            "aaxis": {
             "endlinecolor": "#2a3f5f",
             "gridcolor": "#C8D4E3",
             "linecolor": "#C8D4E3",
             "minorgridcolor": "#C8D4E3",
             "startlinecolor": "#2a3f5f"
            },
            "baxis": {
             "endlinecolor": "#2a3f5f",
             "gridcolor": "#C8D4E3",
             "linecolor": "#C8D4E3",
             "minorgridcolor": "#C8D4E3",
             "startlinecolor": "#2a3f5f"
            },
            "type": "carpet"
           }
          ],
          "choropleth": [
           {
            "colorbar": {
             "outlinewidth": 0,
             "ticks": ""
            },
            "type": "choropleth"
           }
          ],
          "contour": [
           {
            "colorbar": {
             "outlinewidth": 0,
             "ticks": ""
            },
            "colorscale": [
             [
              0,
              "#0d0887"
             ],
             [
              0.1111111111111111,
              "#46039f"
             ],
             [
              0.2222222222222222,
              "#7201a8"
             ],
             [
              0.3333333333333333,
              "#9c179e"
             ],
             [
              0.4444444444444444,
              "#bd3786"
             ],
             [
              0.5555555555555556,
              "#d8576b"
             ],
             [
              0.6666666666666666,
              "#ed7953"
             ],
             [
              0.7777777777777778,
              "#fb9f3a"
             ],
             [
              0.8888888888888888,
              "#fdca26"
             ],
             [
              1,
              "#f0f921"
             ]
            ],
            "type": "contour"
           }
          ],
          "contourcarpet": [
           {
            "colorbar": {
             "outlinewidth": 0,
             "ticks": ""
            },
            "type": "contourcarpet"
           }
          ],
          "heatmap": [
           {
            "colorbar": {
             "outlinewidth": 0,
             "ticks": ""
            },
            "colorscale": [
             [
              0,
              "#0d0887"
             ],
             [
              0.1111111111111111,
              "#46039f"
             ],
             [
              0.2222222222222222,
              "#7201a8"
             ],
             [
              0.3333333333333333,
              "#9c179e"
             ],
             [
              0.4444444444444444,
              "#bd3786"
             ],
             [
              0.5555555555555556,
              "#d8576b"
             ],
             [
              0.6666666666666666,
              "#ed7953"
             ],
             [
              0.7777777777777778,
              "#fb9f3a"
             ],
             [
              0.8888888888888888,
              "#fdca26"
             ],
             [
              1,
              "#f0f921"
             ]
            ],
            "type": "heatmap"
           }
          ],
          "histogram": [
           {
            "marker": {
             "pattern": {
              "fillmode": "overlay",
              "size": 10,
              "solidity": 0.2
             }
            },
            "type": "histogram"
           }
          ],
          "histogram2d": [
           {
            "colorbar": {
             "outlinewidth": 0,
             "ticks": ""
            },
            "colorscale": [
             [
              0,
              "#0d0887"
             ],
             [
              0.1111111111111111,
              "#46039f"
             ],
             [
              0.2222222222222222,
              "#7201a8"
             ],
             [
              0.3333333333333333,
              "#9c179e"
             ],
             [
              0.4444444444444444,
              "#bd3786"
             ],
             [
              0.5555555555555556,
              "#d8576b"
             ],
             [
              0.6666666666666666,
              "#ed7953"
             ],
             [
              0.7777777777777778,
              "#fb9f3a"
             ],
             [
              0.8888888888888888,
              "#fdca26"
             ],
             [
              1,
              "#f0f921"
             ]
            ],
            "type": "histogram2d"
           }
          ],
          "histogram2dcontour": [
           {
            "colorbar": {
             "outlinewidth": 0,
             "ticks": ""
            },
            "colorscale": [
             [
              0,
              "#0d0887"
             ],
             [
              0.1111111111111111,
              "#46039f"
             ],
             [
              0.2222222222222222,
              "#7201a8"
             ],
             [
              0.3333333333333333,
              "#9c179e"
             ],
             [
              0.4444444444444444,
              "#bd3786"
             ],
             [
              0.5555555555555556,
              "#d8576b"
             ],
             [
              0.6666666666666666,
              "#ed7953"
             ],
             [
              0.7777777777777778,
              "#fb9f3a"
             ],
             [
              0.8888888888888888,
              "#fdca26"
             ],
             [
              1,
              "#f0f921"
             ]
            ],
            "type": "histogram2dcontour"
           }
          ],
          "mesh3d": [
           {
            "colorbar": {
             "outlinewidth": 0,
             "ticks": ""
            },
            "type": "mesh3d"
           }
          ],
          "parcoords": [
           {
            "line": {
             "colorbar": {
              "outlinewidth": 0,
              "ticks": ""
             }
            },
            "type": "parcoords"
           }
          ],
          "pie": [
           {
            "automargin": true,
            "type": "pie"
           }
          ],
          "scatter": [
           {
            "fillpattern": {
             "fillmode": "overlay",
             "size": 10,
             "solidity": 0.2
            },
            "type": "scatter"
           }
          ],
          "scatter3d": [
           {
            "line": {
             "colorbar": {
              "outlinewidth": 0,
              "ticks": ""
             }
            },
            "marker": {
             "colorbar": {
              "outlinewidth": 0,
              "ticks": ""
             }
            },
            "type": "scatter3d"
           }
          ],
          "scattercarpet": [
           {
            "marker": {
             "colorbar": {
              "outlinewidth": 0,
              "ticks": ""
             }
            },
            "type": "scattercarpet"
           }
          ],
          "scattergeo": [
           {
            "marker": {
             "colorbar": {
              "outlinewidth": 0,
              "ticks": ""
             }
            },
            "type": "scattergeo"
           }
          ],
          "scattergl": [
           {
            "marker": {
             "colorbar": {
              "outlinewidth": 0,
              "ticks": ""
             }
            },
            "type": "scattergl"
           }
          ],
          "scattermap": [
           {
            "marker": {
             "colorbar": {
              "outlinewidth": 0,
              "ticks": ""
             }
            },
            "type": "scattermap"
           }
          ],
          "scattermapbox": [
           {
            "marker": {
             "colorbar": {
              "outlinewidth": 0,
              "ticks": ""
             }
            },
            "type": "scattermapbox"
           }
          ],
          "scatterpolar": [
           {
            "marker": {
             "colorbar": {
              "outlinewidth": 0,
              "ticks": ""
             }
            },
            "type": "scatterpolar"
           }
          ],
          "scatterpolargl": [
           {
            "marker": {
             "colorbar": {
              "outlinewidth": 0,
              "ticks": ""
             }
            },
            "type": "scatterpolargl"
           }
          ],
          "scatterternary": [
           {
            "marker": {
             "colorbar": {
              "outlinewidth": 0,
              "ticks": ""
             }
            },
            "type": "scatterternary"
           }
          ],
          "surface": [
           {
            "colorbar": {
             "outlinewidth": 0,
             "ticks": ""
            },
            "colorscale": [
             [
              0,
              "#0d0887"
             ],
             [
              0.1111111111111111,
              "#46039f"
             ],
             [
              0.2222222222222222,
              "#7201a8"
             ],
             [
              0.3333333333333333,
              "#9c179e"
             ],
             [
              0.4444444444444444,
              "#bd3786"
             ],
             [
              0.5555555555555556,
              "#d8576b"
             ],
             [
              0.6666666666666666,
              "#ed7953"
             ],
             [
              0.7777777777777778,
              "#fb9f3a"
             ],
             [
              0.8888888888888888,
              "#fdca26"
             ],
             [
              1,
              "#f0f921"
             ]
            ],
            "type": "surface"
           }
          ],
          "table": [
           {
            "cells": {
             "fill": {
              "color": "#EBF0F8"
             },
             "line": {
              "color": "white"
             }
            },
            "header": {
             "fill": {
              "color": "#C8D4E3"
             },
             "line": {
              "color": "white"
             }
            },
            "type": "table"
           }
          ]
         },
         "layout": {
          "annotationdefaults": {
           "arrowcolor": "#2a3f5f",
           "arrowhead": 0,
           "arrowwidth": 1
          },
          "autotypenumbers": "strict",
          "coloraxis": {
           "colorbar": {
            "outlinewidth": 0,
            "ticks": ""
           }
          },
          "colorscale": {
           "diverging": [
            [
             0,
             "#8e0152"
            ],
            [
             0.1,
             "#c51b7d"
            ],
            [
             0.2,
             "#de77ae"
            ],
            [
             0.3,
             "#f1b6da"
            ],
            [
             0.4,
             "#fde0ef"
            ],
            [
             0.5,
             "#f7f7f7"
            ],
            [
             0.6,
             "#e6f5d0"
            ],
            [
             0.7,
             "#b8e186"
            ],
            [
             0.8,
             "#7fbc41"
            ],
            [
             0.9,
             "#4d9221"
            ],
            [
             1,
             "#276419"
            ]
           ],
           "sequential": [
            [
             0,
             "#0d0887"
            ],
            [
             0.1111111111111111,
             "#46039f"
            ],
            [
             0.2222222222222222,
             "#7201a8"
            ],
            [
             0.3333333333333333,
             "#9c179e"
            ],
            [
             0.4444444444444444,
             "#bd3786"
            ],
            [
             0.5555555555555556,
             "#d8576b"
            ],
            [
             0.6666666666666666,
             "#ed7953"
            ],
            [
             0.7777777777777778,
             "#fb9f3a"
            ],
            [
             0.8888888888888888,
             "#fdca26"
            ],
            [
             1,
             "#f0f921"
            ]
           ],
           "sequentialminus": [
            [
             0,
             "#0d0887"
            ],
            [
             0.1111111111111111,
             "#46039f"
            ],
            [
             0.2222222222222222,
             "#7201a8"
            ],
            [
             0.3333333333333333,
             "#9c179e"
            ],
            [
             0.4444444444444444,
             "#bd3786"
            ],
            [
             0.5555555555555556,
             "#d8576b"
            ],
            [
             0.6666666666666666,
             "#ed7953"
            ],
            [
             0.7777777777777778,
             "#fb9f3a"
            ],
            [
             0.8888888888888888,
             "#fdca26"
            ],
            [
             1,
             "#f0f921"
            ]
           ]
          },
          "colorway": [
           "#636efa",
           "#EF553B",
           "#00cc96",
           "#ab63fa",
           "#FFA15A",
           "#19d3f3",
           "#FF6692",
           "#B6E880",
           "#FF97FF",
           "#FECB52"
          ],
          "font": {
           "color": "#2a3f5f"
          },
          "geo": {
           "bgcolor": "white",
           "lakecolor": "white",
           "landcolor": "white",
           "showlakes": true,
           "showland": true,
           "subunitcolor": "#C8D4E3"
          },
          "hoverlabel": {
           "align": "left"
          },
          "hovermode": "closest",
          "mapbox": {
           "style": "light"
          },
          "paper_bgcolor": "white",
          "plot_bgcolor": "white",
          "polar": {
           "angularaxis": {
            "gridcolor": "#EBF0F8",
            "linecolor": "#EBF0F8",
            "ticks": ""
           },
           "bgcolor": "white",
           "radialaxis": {
            "gridcolor": "#EBF0F8",
            "linecolor": "#EBF0F8",
            "ticks": ""
           }
          },
          "scene": {
           "xaxis": {
            "backgroundcolor": "white",
            "gridcolor": "#DFE8F3",
            "gridwidth": 2,
            "linecolor": "#EBF0F8",
            "showbackground": true,
            "ticks": "",
            "zerolinecolor": "#EBF0F8"
           },
           "yaxis": {
            "backgroundcolor": "white",
            "gridcolor": "#DFE8F3",
            "gridwidth": 2,
            "linecolor": "#EBF0F8",
            "showbackground": true,
            "ticks": "",
            "zerolinecolor": "#EBF0F8"
           },
           "zaxis": {
            "backgroundcolor": "white",
            "gridcolor": "#DFE8F3",
            "gridwidth": 2,
            "linecolor": "#EBF0F8",
            "showbackground": true,
            "ticks": "",
            "zerolinecolor": "#EBF0F8"
           }
          },
          "shapedefaults": {
           "line": {
            "color": "#2a3f5f"
           }
          },
          "ternary": {
           "aaxis": {
            "gridcolor": "#DFE8F3",
            "linecolor": "#A2B1C6",
            "ticks": ""
           },
           "baxis": {
            "gridcolor": "#DFE8F3",
            "linecolor": "#A2B1C6",
            "ticks": ""
           },
           "bgcolor": "white",
           "caxis": {
            "gridcolor": "#DFE8F3",
            "linecolor": "#A2B1C6",
            "ticks": ""
           }
          },
          "title": {
           "x": 0.05
          },
          "xaxis": {
           "automargin": true,
           "gridcolor": "#EBF0F8",
           "linecolor": "#EBF0F8",
           "ticks": "",
           "title": {
            "standoff": 15
           },
           "zerolinecolor": "#EBF0F8",
           "zerolinewidth": 2
          },
          "yaxis": {
           "automargin": true,
           "gridcolor": "#EBF0F8",
           "linecolor": "#EBF0F8",
           "ticks": "",
           "title": {
            "standoff": 15
           },
           "zerolinecolor": "#EBF0F8",
           "zerolinewidth": 2
          }
         }
        },
        "title": {
         "text": "KNN Imputation: Before and After"
        },
        "width": 1200,
        "xaxis": {
         "anchor": "y",
         "domain": [
          0,
          0.45
         ],
         "title": {
          "text": "ESG Score"
         }
        },
        "xaxis2": {
         "anchor": "y2",
         "domain": [
          0.55,
          1
         ],
         "title": {
          "text": "ESG Score"
         }
        },
        "yaxis": {
         "anchor": "x",
         "domain": [
          0,
          1
         ],
         "title": {
          "text": "Environment Score"
         }
        },
        "yaxis2": {
         "anchor": "x2",
         "domain": [
          0,
          1
         ],
         "title": {
          "text": "Environment Score"
         }
        }
       }
      },
      "image/png": "[encoded data removed]"
     },
     "metadata": {},
     "output_type": "display_data"
    }
   ],
   "source": [
    "# Separate imputed points\n",
    "imputed_mask = df.isnull().any(axis=1)\n",
    "df_imputed['Imputed'] = imputed_mask\n",
    "\n",
    "# Create subplots: one for original data and one for imputed data\n",
    "fig = make_subplots(rows=1, cols=2, subplot_titles=(\"Original Data with Missing Values\", \"Data after KNN Imputation\"))\n",
    "\n",
    "# Plot original data (with missing values) in the first subplot\n",
    "fig.add_trace(\n",
    "    go.Scatter(\n",
    "        x=df['ESG_Score'], \n",
    "        y=df['Environment_Score'], \n",
    "        mode='markers', \n",
    "        name='Original Data',\n",
    "        marker=dict(color='blue', size=10),\n",
    "        text=['Original' for _ in range(len(df))]\n",
    "    ),\n",
    "    row=1, col=1\n",
    ")\n",
    "\n",
    "# Plot non-imputed data (already present, not imputed) in the second subplot\n",
    "fig.add_trace(\n",
    "    go.Scatter(\n",
    "        x=df_imputed.loc[~imputed_mask, 'ESG_Score'], \n",
    "        y=df_imputed.loc[~imputed_mask, 'Environment_Score'], \n",
    "        mode='markers', \n",
    "        name='Non-Imputed Data (After Imputation)',\n",
    "        marker=dict(color='green', size=10, symbol='circle'),\n",
    "        text=['Non-Imputed' for _ in range(sum(~imputed_mask))]\n",
    "    ),\n",
    "    row=1, col=2\n",
    ")\n",
    "\n",
    "# Highlight imputed points in the second subplot\n",
    "fig.add_trace(\n",
    "    go.Scatter(\n",
    "        x=df_imputed.loc[imputed_mask, 'ESG_Score'], \n",
    "        y=df_imputed.loc[imputed_mask, 'Environment_Score'], \n",
    "        mode='markers', \n",
    "        name='Imputed Data',\n",
    "        marker=dict(color='red', size=12, symbol='x'),\n",
    "        text=['Imputed' for _ in range(sum(imputed_mask))]\n",
    "    ),\n",
    "    row=1, col=2\n",
    ")\n",
    "\n",
    "# Update the layout for better visualization, setting a smaller width\n",
    "fig.update_layout(\n",
    "    title_text=\"KNN Imputation: Before and After\",\n",
    "    width=1200,  # Adjust the figure width here\n",
    "    height=500,  # You can also adjust height if necessary\n",
    "    xaxis_title=\"ESG Score\",\n",
    "    yaxis_title=\"Environment Score\",\n",
    "    legend_title=\"Data Type\",\n",
    "    template=\"plotly_white\"\n",
    ")\n",
    "\n",
    "# Set axis titles for each subplot\n",
    "fig.update_xaxes(title_text=\"ESG Score\", row=1, col=1)\n",
    "fig.update_yaxes(title_text=\"Environment Score\", row=1, col=1)\n",
    "fig.update_xaxes(title_text=\"ESG Score\", row=1, col=2)\n",
    "fig.update_yaxes(title_text=\"Environment Score\", row=1, col=2)\n",
    "\n",
    "fig.show()"
   ]
  },
  {
   "cell_type": "code",
   "execution_count": 13,
   "id": "390b5bd8-2076-4e99-aab6-2501794418c1",
   "metadata": {},
   "outputs": [
    {
     "data": {
      "text/html": [
       "<div>\n",
       "<style scoped>\n",
       "    .dataframe tbody tr th:only-of-type {\n",
       "        vertical-align: middle;\n",
       "    }\n",
       "\n",
       "    .dataframe tbody tr th {\n",
       "        vertical-align: top;\n",
       "    }\n",
       "\n",
       "    .dataframe thead th {\n",
       "        text-align: right;\n",
       "    }\n",
       "</style>\n",
       "<table border=\"1\" class=\"dataframe\">\n",
       "  <thead>\n",
       "    <tr style=\"text-align: right;\">\n",
       "      <th></th>\n",
       "      <th>ESG_Score</th>\n",
       "      <th>Environment_Score</th>\n",
       "    </tr>\n",
       "  </thead>\n",
       "  <tbody>\n",
       "    <tr>\n",
       "      <th>0</th>\n",
       "      <td>50.0</td>\n",
       "      <td>30.0</td>\n",
       "    </tr>\n",
       "    <tr>\n",
       "      <th>1</th>\n",
       "      <td>NaN</td>\n",
       "      <td>40.0</td>\n",
       "    </tr>\n",
       "    <tr>\n",
       "      <th>2</th>\n",
       "      <td>75.0</td>\n",
       "      <td>NaN</td>\n",
       "    </tr>\n",
       "    <tr>\n",
       "      <th>3</th>\n",
       "      <td>85.0</td>\n",
       "      <td>70.0</td>\n",
       "    </tr>\n",
       "    <tr>\n",
       "      <th>4</th>\n",
       "      <td>NaN</td>\n",
       "      <td>60.0</td>\n",
       "    </tr>\n",
       "    <tr>\n",
       "      <th>5</th>\n",
       "      <td>60.0</td>\n",
       "      <td>NaN</td>\n",
       "    </tr>\n",
       "    <tr>\n",
       "      <th>6</th>\n",
       "      <td>90.0</td>\n",
       "      <td>95.0</td>\n",
       "    </tr>\n",
       "  </tbody>\n",
       "</table>\n",
       "</div>"
      ],
      "text/plain": [
       "   ESG_Score  Environment_Score\n",
       "0       50.0               30.0\n",
       "1        NaN               40.0\n",
       "2       75.0                NaN\n",
       "3       85.0               70.0\n",
       "4        NaN               60.0\n",
       "5       60.0                NaN\n",
       "6       90.0               95.0"
      ]
     },
     "execution_count": 13,
     "metadata": {},
     "output_type": "execute_result"
    }
   ],
   "source": [
    "df"
   ]
  },
  {
   "cell_type": "markdown",
   "id": "d40a9f7c-28eb-4065-a263-c5861669b181",
   "metadata": {},
   "source": [
    "Explanation:\n",
    "- On the left side, you will see the original data with missing values.\n",
    "- On the right side, after KNN imputation, you will see the imputed values. The points that were missing are now filled based on the average of the two nearest neighbors."
   ]
  },
  {
   "cell_type": "markdown",
   "id": "f2491138-89a2-484d-b27b-e2a5b04a3c47",
   "metadata": {},
   "source": [
    "#### 3D visualization"
   ]
  },
  {
   "cell_type": "code",
   "execution_count": 14,
   "id": "02f28225-ebf0-4d19-9842-8e3596b94abb",
   "metadata": {},
   "outputs": [
    {
     "data": {
      "application/vnd.plotly.v1+json": {
       "config": {
        "plotlyServerURL": "https://plot.ly"
       },
       "data": [
        {
         "marker": {
          "color": "blue",
          "size": 5
         },
         "mode": "markers",
         "name": "Original Data",
         "scene": "scene",
         "text": [
          "Original",
          "Original",
          "Original",
          "Original",
          "Original",
          "Original",
          "Original",
          "Original",
          "Original",
          "Original",
          "Original"
         ],
         "type": "scatter3d",
         "x": {
          "bdata": "AAAAAAAASUAAAAAAAAD4fwAAAAAAwFJAAAAAAABAVUAAAAAAAAD4fwAAAAAAAE5AAAAAAACAVkAAAAAAAMBXQAAAAAAAQFBAAAAAAAAA+H8AAAAAAABOQA==",
          "dtype": "f8"
         },
         "y": {
          "bdata": "AAAAAAAAPkAAAAAAAABEQAAAAAAAAPh/AAAAAACAUUAAAAAAAABOQAAAAAAAAPh/AAAAAADAV0AAAAAAAABUQAAAAAAAgEtAAAAAAACARkAAAAAAAIBWQA==",
          "dtype": "f8"
         },
         "z": {
          "bdata": "AAAAAAAA+H8AAAAAAIBLQAAAAAAAAE5AAAAAAABAUEAAAAAAAABJQAAAAAAAwFJAAAAAAABAVUAAAAAAAAD4fwAAAAAAAE5AAAAAAACAUUAAAAAAAABUQA==",
          "dtype": "f8"
         }
        },
        {
         "marker": {
          "color": "green",
          "size": 5
         },
         "mode": "markers",
         "name": "Non-Imputed Data (After Imputation)",
         "scene": "scene2",
         "text": [
          "Non-Imputed",
          "Non-Imputed",
          "Non-Imputed",
          "Non-Imputed"
         ],
         "type": "scatter3d",
         "x": {
          "bdata": "AAAAAABAVUAAAAAAAIBWQAAAAAAAQFBAAAAAAAAATkA=",
          "dtype": "f8"
         },
         "y": {
          "bdata": "AAAAAACAUUAAAAAAAMBXQAAAAAAAgEtAAAAAAACAVkA=",
          "dtype": "f8"
         },
         "z": {
          "bdata": "AAAAAABAUEAAAAAAAEBVQAAAAAAAAE5AAAAAAAAAVEA=",
          "dtype": "f8"
         }
        },
        {
         "marker": {
          "color": "red",
          "size": 2,
          "symbol": "x"
         },
         "mode": "markers",
         "name": "Imputed Data",
         "scene": "scene2",
         "text": [
          "Imputed",
          "Imputed",
          "Imputed",
          "Imputed",
          "Imputed",
          "Imputed",
          "Imputed"
         ],
         "type": "scatter3d",
         "x": {
          "bdata": "AAAAAAAASUAAAAAAAEBPQAAAAAAAwFJAAAAAAACAUUAAAAAAAABOQAAAAAAAwFdAAAAAAADgUEA=",
          "dtype": "f8"
         },
         "y": {
          "bdata": "AAAAAAAAPkAAAAAAAABEQAAAAAAAwEdAAAAAAAAATkAAAAAAAOBQQAAAAAAAAFRAAAAAAACARkA=",
          "dtype": "f8"
         },
         "z": {
          "bdata": "AAAAAABAUEAAAAAAAIBLQAAAAAAAAE5AAAAAAAAASUAAAAAAAMBSQAAAAAAAwFJAAAAAAACAUUA=",
          "dtype": "f8"
         }
        },
        {
         "line": {
          "color": "lightgrey",
          "width": 2
         },
         "mode": "lines",
         "scene": "scene2",
         "showlegend": false,
         "type": "scatter3d",
         "x": [
          50,
          65
         ],
         "y": [
          30,
          55
         ],
         "z": [
          65,
          60
         ]
        },
        {
         "line": {
          "color": "lightgrey",
          "width": 2
         },
         "mode": "lines",
         "scene": "scene2",
         "showlegend": false,
         "type": "scatter3d",
         "x": [
          50,
          85
         ],
         "y": [
          30,
          70
         ],
         "z": [
          65,
          65
         ]
        },
        {
         "line": {
          "color": "lightgrey",
          "width": 2
         },
         "mode": "lines",
         "scene": "scene2",
         "showlegend": false,
         "type": "scatter3d",
         "x": [
          62.5,
          65
         ],
         "y": [
          40,
          55
         ],
         "z": [
          55,
          60
         ]
        },
        {
         "line": {
          "color": "lightgrey",
          "width": 2
         },
         "mode": "lines",
         "scene": "scene2",
         "showlegend": false,
         "type": "scatter3d",
         "x": [
          62.5,
          85
         ],
         "y": [
          40,
          70
         ],
         "z": [
          55,
          65
         ]
        },
        {
         "line": {
          "color": "lightgrey",
          "width": 2
         },
         "mode": "lines",
         "scene": "scene2",
         "showlegend": false,
         "type": "scatter3d",
         "x": [
          75,
          65
         ],
         "y": [
          47.5,
          55
         ],
         "z": [
          60,
          60
         ]
        },
        {
         "line": {
          "color": "lightgrey",
          "width": 2
         },
         "mode": "lines",
         "scene": "scene2",
         "showlegend": false,
         "type": "scatter3d",
         "x": [
          75,
          85
         ],
         "y": [
          47.5,
          70
         ],
         "z": [
          60,
          65
         ]
        },
        {
         "line": {
          "color": "lightgrey",
          "width": 2
         },
         "mode": "lines",
         "scene": "scene2",
         "showlegend": false,
         "type": "scatter3d",
         "x": [
          70,
          65
         ],
         "y": [
          60,
          55
         ],
         "z": [
          50,
          60
         ]
        },
        {
         "line": {
          "color": "lightgrey",
          "width": 2
         },
         "mode": "lines",
         "scene": "scene2",
         "showlegend": false,
         "type": "scatter3d",
         "x": [
          70,
          85
         ],
         "y": [
          60,
          70
         ],
         "z": [
          50,
          65
         ]
        },
        {
         "line": {
          "color": "lightgrey",
          "width": 2
         },
         "mode": "lines",
         "scene": "scene2",
         "showlegend": false,
         "type": "scatter3d",
         "x": [
          60,
          65
         ],
         "y": [
          67.5,
          55
         ],
         "z": [
          75,
          60
         ]
        },
        {
         "line": {
          "color": "lightgrey",
          "width": 2
         },
         "mode": "lines",
         "scene": "scene2",
         "showlegend": false,
         "type": "scatter3d",
         "x": [
          60,
          60
         ],
         "y": [
          67.5,
          90
         ],
         "z": [
          75,
          80
         ]
        },
        {
         "line": {
          "color": "lightgrey",
          "width": 2
         },
         "mode": "lines",
         "scene": "scene2",
         "showlegend": false,
         "type": "scatter3d",
         "x": [
          95,
          85
         ],
         "y": [
          80,
          70
         ],
         "z": [
          75,
          65
         ]
        },
        {
         "line": {
          "color": "lightgrey",
          "width": 2
         },
         "mode": "lines",
         "scene": "scene2",
         "showlegend": false,
         "type": "scatter3d",
         "x": [
          95,
          90
         ],
         "y": [
          80,
          95
         ],
         "z": [
          75,
          85
         ]
        },
        {
         "line": {
          "color": "lightgrey",
          "width": 2
         },
         "mode": "lines",
         "scene": "scene2",
         "showlegend": false,
         "type": "scatter3d",
         "x": [
          67.5,
          65
         ],
         "y": [
          45,
          55
         ],
         "z": [
          70,
          60
         ]
        },
        {
         "line": {
          "color": "lightgrey",
          "width": 2
         },
         "mode": "lines",
         "scene": "scene2",
         "showlegend": false,
         "type": "scatter3d",
         "x": [
          67.5,
          85
         ],
         "y": [
          45,
          70
         ],
         "z": [
          70,
          65
         ]
        },
        {
         "line": {
          "color": "orange",
          "width": 2
         },
         "mode": "lines",
         "scene": "scene2",
         "showlegend": false,
         "type": "scatter3d",
         "x": [
          50,
          50
         ],
         "y": [
          30,
          30
         ],
         "z": [
          0,
          65
         ]
        },
        {
         "line": {
          "color": "orange",
          "width": 2
         },
         "mode": "lines",
         "scene": "scene2",
         "showlegend": false,
         "type": "scatter3d",
         "x": [
          0,
          62.5
         ],
         "y": [
          40,
          40
         ],
         "z": [
          55,
          55
         ]
        },
        {
         "line": {
          "color": "orange",
          "width": 2
         },
         "mode": "lines",
         "scene": "scene2",
         "showlegend": false,
         "type": "scatter3d",
         "x": [
          75,
          75
         ],
         "y": [
          0,
          47.5
         ],
         "z": [
          60,
          60
         ]
        },
        {
         "line": {
          "color": "orange",
          "width": 2
         },
         "mode": "lines",
         "scene": "scene2",
         "showlegend": false,
         "type": "scatter3d",
         "x": [
          0,
          70
         ],
         "y": [
          60,
          60
         ],
         "z": [
          50,
          50
         ]
        },
        {
         "line": {
          "color": "orange",
          "width": 2
         },
         "mode": "lines",
         "scene": "scene2",
         "showlegend": false,
         "type": "scatter3d",
         "x": [
          60,
          60
         ],
         "y": [
          0,
          67.5
         ],
         "z": [
          75,
          75
         ]
        },
        {
         "line": {
          "color": "orange",
          "width": 2
         },
         "mode": "lines",
         "scene": "scene2",
         "showlegend": false,
         "type": "scatter3d",
         "x": [
          95,
          95
         ],
         "y": [
          80,
          80
         ],
         "z": [
          0,
          75
         ]
        },
        {
         "line": {
          "color": "orange",
          "width": 2
         },
         "mode": "lines",
         "scene": "scene2",
         "showlegend": false,
         "type": "scatter3d",
         "x": [
          0,
          67.5
         ],
         "y": [
          45,
          45
         ],
         "z": [
          70,
          70
         ]
        }
       ],
       "layout": {
        "annotations": [
         {
          "font": {
           "size": 16
          },
          "showarrow": false,
          "text": "Original Data with Missing Values",
          "x": 0.225,
          "xanchor": "center",
          "xref": "paper",
          "y": 1,
          "yanchor": "bottom",
          "yref": "paper"
         },
         {
          "font": {
           "size": 16
          },
          "showarrow": false,
          "text": "Data after KNN Imputation with Neighbor and Plane Connections",
          "x": 0.775,
          "xanchor": "center",
          "xref": "paper",
          "y": 1,
          "yanchor": "bottom",
          "yref": "paper"
         }
        ],
        "height": 800,
        "legend": {
         "title": {
          "text": "Data Type"
         }
        },
        "scene": {
         "domain": {
          "x": [
           0,
           0.45
          ],
          "y": [
           0,
           1
          ]
         },
         "xaxis": {
          "title": {
           "text": "ESG Score"
          }
         },
         "yaxis": {
          "title": {
           "text": "Environment Score"
          }
         },
         "zaxis": {
          "title": {
           "text": "Social Score"
          }
         }
        },
        "scene2": {
         "domain": {
          "x": [
           0.55,
           1
          ],
          "y": [
           0,
           1
          ]
         },
         "xaxis": {
          "title": {
           "text": "ESG Score"
          }
         },
         "yaxis": {
          "title": {
           "text": "Environment Score"
          }
         },
         "zaxis": {
          "title": {
           "text": "Social Score"
          }
         }
        },
        "template": {
         "data": {
          "bar": [
           {
            "error_x": {
             "color": "#2a3f5f"
            },
            "error_y": {
             "color": "#2a3f5f"
            },
            "marker": {
             "line": {
              "color": "white",
              "width": 0.5
             },
             "pattern": {
              "fillmode": "overlay",
              "size": 10,
              "solidity": 0.2
             }
            },
            "type": "bar"
           }
          ],
          "barpolar": [
           {
            "marker": {
             "line": {
              "color": "white",
              "width": 0.5
             },
             "pattern": {
              "fillmode": "overlay",
              "size": 10,
              "solidity": 0.2
             }
            },
            "type": "barpolar"
           }
          ],
          "carpet": [
           {
            "aaxis": {
             "endlinecolor": "#2a3f5f",
             "gridcolor": "#C8D4E3",
             "linecolor": "#C8D4E3",
             "minorgridcolor": "#C8D4E3",
             "startlinecolor": "#2a3f5f"
            },
            "baxis": {
             "endlinecolor": "#2a3f5f",
             "gridcolor": "#C8D4E3",
             "linecolor": "#C8D4E3",
             "minorgridcolor": "#C8D4E3",
             "startlinecolor": "#2a3f5f"
            },
            "type": "carpet"
           }
          ],
          "choropleth": [
           {
            "colorbar": {
             "outlinewidth": 0,
             "ticks": ""
            },
            "type": "choropleth"
           }
          ],
          "contour": [
           {
            "colorbar": {
             "outlinewidth": 0,
             "ticks": ""
            },
            "colorscale": [
             [
              0,
              "#0d0887"
             ],
             [
              0.1111111111111111,
              "#46039f"
             ],
             [
              0.2222222222222222,
              "#7201a8"
             ],
             [
              0.3333333333333333,
              "#9c179e"
             ],
             [
              0.4444444444444444,
              "#bd3786"
             ],
             [
              0.5555555555555556,
              "#d8576b"
             ],
             [
              0.6666666666666666,
              "#ed7953"
             ],
             [
              0.7777777777777778,
              "#fb9f3a"
             ],
             [
              0.8888888888888888,
              "#fdca26"
             ],
             [
              1,
              "#f0f921"
             ]
            ],
            "type": "contour"
           }
          ],
          "contourcarpet": [
           {
            "colorbar": {
             "outlinewidth": 0,
             "ticks": ""
            },
            "type": "contourcarpet"
           }
          ],
          "heatmap": [
           {
            "colorbar": {
             "outlinewidth": 0,
             "ticks": ""
            },
            "colorscale": [
             [
              0,
              "#0d0887"
             ],
             [
              0.1111111111111111,
              "#46039f"
             ],
             [
              0.2222222222222222,
              "#7201a8"
             ],
             [
              0.3333333333333333,
              "#9c179e"
             ],
             [
              0.4444444444444444,
              "#bd3786"
             ],
             [
              0.5555555555555556,
              "#d8576b"
             ],
             [
              0.6666666666666666,
              "#ed7953"
             ],
             [
              0.7777777777777778,
              "#fb9f3a"
             ],
             [
              0.8888888888888888,
              "#fdca26"
             ],
             [
              1,
              "#f0f921"
             ]
            ],
            "type": "heatmap"
           }
          ],
          "histogram": [
           {
            "marker": {
             "pattern": {
              "fillmode": "overlay",
              "size": 10,
              "solidity": 0.2
             }
            },
            "type": "histogram"
           }
          ],
          "histogram2d": [
           {
            "colorbar": {
             "outlinewidth": 0,
             "ticks": ""
            },
            "colorscale": [
             [
              0,
              "#0d0887"
             ],
             [
              0.1111111111111111,
              "#46039f"
             ],
             [
              0.2222222222222222,
              "#7201a8"
             ],
             [
              0.3333333333333333,
              "#9c179e"
             ],
             [
              0.4444444444444444,
              "#bd3786"
             ],
             [
              0.5555555555555556,
              "#d8576b"
             ],
             [
              0.6666666666666666,
              "#ed7953"
             ],
             [
              0.7777777777777778,
              "#fb9f3a"
             ],
             [
              0.8888888888888888,
              "#fdca26"
             ],
             [
              1,
              "#f0f921"
             ]
            ],
            "type": "histogram2d"
           }
          ],
          "histogram2dcontour": [
           {
            "colorbar": {
             "outlinewidth": 0,
             "ticks": ""
            },
            "colorscale": [
             [
              0,
              "#0d0887"
             ],
             [
              0.1111111111111111,
              "#46039f"
             ],
             [
              0.2222222222222222,
              "#7201a8"
             ],
             [
              0.3333333333333333,
              "#9c179e"
             ],
             [
              0.4444444444444444,
              "#bd3786"
             ],
             [
              0.5555555555555556,
              "#d8576b"
             ],
             [
              0.6666666666666666,
              "#ed7953"
             ],
             [
              0.7777777777777778,
              "#fb9f3a"
             ],
             [
              0.8888888888888888,
              "#fdca26"
             ],
             [
              1,
              "#f0f921"
             ]
            ],
            "type": "histogram2dcontour"
           }
          ],
          "mesh3d": [
           {
            "colorbar": {
             "outlinewidth": 0,
             "ticks": ""
            },
            "type": "mesh3d"
           }
          ],
          "parcoords": [
           {
            "line": {
             "colorbar": {
              "outlinewidth": 0,
              "ticks": ""
             }
            },
            "type": "parcoords"
           }
          ],
          "pie": [
           {
            "automargin": true,
            "type": "pie"
           }
          ],
          "scatter": [
           {
            "fillpattern": {
             "fillmode": "overlay",
             "size": 10,
             "solidity": 0.2
            },
            "type": "scatter"
           }
          ],
          "scatter3d": [
           {
            "line": {
             "colorbar": {
              "outlinewidth": 0,
              "ticks": ""
             }
            },
            "marker": {
             "colorbar": {
              "outlinewidth": 0,
              "ticks": ""
             }
            },
            "type": "scatter3d"
           }
          ],
          "scattercarpet": [
           {
            "marker": {
             "colorbar": {
              "outlinewidth": 0,
              "ticks": ""
             }
            },
            "type": "scattercarpet"
           }
          ],
          "scattergeo": [
           {
            "marker": {
             "colorbar": {
              "outlinewidth": 0,
              "ticks": ""
             }
            },
            "type": "scattergeo"
           }
          ],
          "scattergl": [
           {
            "marker": {
             "colorbar": {
              "outlinewidth": 0,
              "ticks": ""
             }
            },
            "type": "scattergl"
           }
          ],
          "scattermap": [
           {
            "marker": {
             "colorbar": {
              "outlinewidth": 0,
              "ticks": ""
             }
            },
            "type": "scattermap"
           }
          ],
          "scattermapbox": [
           {
            "marker": {
             "colorbar": {
              "outlinewidth": 0,
              "ticks": ""
             }
            },
            "type": "scattermapbox"
           }
          ],
          "scatterpolar": [
           {
            "marker": {
             "colorbar": {
              "outlinewidth": 0,
              "ticks": ""
             }
            },
            "type": "scatterpolar"
           }
          ],
          "scatterpolargl": [
           {
            "marker": {
             "colorbar": {
              "outlinewidth": 0,
              "ticks": ""
             }
            },
            "type": "scatterpolargl"
           }
          ],
          "scatterternary": [
           {
            "marker": {
             "colorbar": {
              "outlinewidth": 0,
              "ticks": ""
             }
            },
            "type": "scatterternary"
           }
          ],
          "surface": [
           {
            "colorbar": {
             "outlinewidth": 0,
             "ticks": ""
            },
            "colorscale": [
             [
              0,
              "#0d0887"
             ],
             [
              0.1111111111111111,
              "#46039f"
             ],
             [
              0.2222222222222222,
              "#7201a8"
             ],
             [
              0.3333333333333333,
              "#9c179e"
             ],
             [
              0.4444444444444444,
              "#bd3786"
             ],
             [
              0.5555555555555556,
              "#d8576b"
             ],
             [
              0.6666666666666666,
              "#ed7953"
             ],
             [
              0.7777777777777778,
              "#fb9f3a"
             ],
             [
              0.8888888888888888,
              "#fdca26"
             ],
             [
              1,
              "#f0f921"
             ]
            ],
            "type": "surface"
           }
          ],
          "table": [
           {
            "cells": {
             "fill": {
              "color": "#EBF0F8"
             },
             "line": {
              "color": "white"
             }
            },
            "header": {
             "fill": {
              "color": "#C8D4E3"
             },
             "line": {
              "color": "white"
             }
            },
            "type": "table"
           }
          ]
         },
         "layout": {
          "annotationdefaults": {
           "arrowcolor": "#2a3f5f",
           "arrowhead": 0,
           "arrowwidth": 1
          },
          "autotypenumbers": "strict",
          "coloraxis": {
           "colorbar": {
            "outlinewidth": 0,
            "ticks": ""
           }
          },
          "colorscale": {
           "diverging": [
            [
             0,
             "#8e0152"
            ],
            [
             0.1,
             "#c51b7d"
            ],
            [
             0.2,
             "#de77ae"
            ],
            [
             0.3,
             "#f1b6da"
            ],
            [
             0.4,
             "#fde0ef"
            ],
            [
             0.5,
             "#f7f7f7"
            ],
            [
             0.6,
             "#e6f5d0"
            ],
            [
             0.7,
             "#b8e186"
            ],
            [
             0.8,
             "#7fbc41"
            ],
            [
             0.9,
             "#4d9221"
            ],
            [
             1,
             "#276419"
            ]
           ],
           "sequential": [
            [
             0,
             "#0d0887"
            ],
            [
             0.1111111111111111,
             "#46039f"
            ],
            [
             0.2222222222222222,
             "#7201a8"
            ],
            [
             0.3333333333333333,
             "#9c179e"
            ],
            [
             0.4444444444444444,
             "#bd3786"
            ],
            [
             0.5555555555555556,
             "#d8576b"
            ],
            [
             0.6666666666666666,
             "#ed7953"
            ],
            [
             0.7777777777777778,
             "#fb9f3a"
            ],
            [
             0.8888888888888888,
             "#fdca26"
            ],
            [
             1,
             "#f0f921"
            ]
           ],
           "sequentialminus": [
            [
             0,
             "#0d0887"
            ],
            [
             0.1111111111111111,
             "#46039f"
            ],
            [
             0.2222222222222222,
             "#7201a8"
            ],
            [
             0.3333333333333333,
             "#9c179e"
            ],
            [
             0.4444444444444444,
             "#bd3786"
            ],
            [
             0.5555555555555556,
             "#d8576b"
            ],
            [
             0.6666666666666666,
             "#ed7953"
            ],
            [
             0.7777777777777778,
             "#fb9f3a"
            ],
            [
             0.8888888888888888,
             "#fdca26"
            ],
            [
             1,
             "#f0f921"
            ]
           ]
          },
          "colorway": [
           "#636efa",
           "#EF553B",
           "#00cc96",
           "#ab63fa",
           "#FFA15A",
           "#19d3f3",
           "#FF6692",
           "#B6E880",
           "#FF97FF",
           "#FECB52"
          ],
          "font": {
           "color": "#2a3f5f"
          },
          "geo": {
           "bgcolor": "white",
           "lakecolor": "white",
           "landcolor": "white",
           "showlakes": true,
           "showland": true,
           "subunitcolor": "#C8D4E3"
          },
          "hoverlabel": {
           "align": "left"
          },
          "hovermode": "closest",
          "mapbox": {
           "style": "light"
          },
          "paper_bgcolor": "white",
          "plot_bgcolor": "white",
          "polar": {
           "angularaxis": {
            "gridcolor": "#EBF0F8",
            "linecolor": "#EBF0F8",
            "ticks": ""
           },
           "bgcolor": "white",
           "radialaxis": {
            "gridcolor": "#EBF0F8",
            "linecolor": "#EBF0F8",
            "ticks": ""
           }
          },
          "scene": {
           "xaxis": {
            "backgroundcolor": "white",
            "gridcolor": "#DFE8F3",
            "gridwidth": 2,
            "linecolor": "#EBF0F8",
            "showbackground": true,
            "ticks": "",
            "zerolinecolor": "#EBF0F8"
           },
           "yaxis": {
            "backgroundcolor": "white",
            "gridcolor": "#DFE8F3",
            "gridwidth": 2,
            "linecolor": "#EBF0F8",
            "showbackground": true,
            "ticks": "",
            "zerolinecolor": "#EBF0F8"
           },
           "zaxis": {
            "backgroundcolor": "white",
            "gridcolor": "#DFE8F3",
            "gridwidth": 2,
            "linecolor": "#EBF0F8",
            "showbackground": true,
            "ticks": "",
            "zerolinecolor": "#EBF0F8"
           }
          },
          "shapedefaults": {
           "line": {
            "color": "#2a3f5f"
           }
          },
          "ternary": {
           "aaxis": {
            "gridcolor": "#DFE8F3",
            "linecolor": "#A2B1C6",
            "ticks": ""
           },
           "baxis": {
            "gridcolor": "#DFE8F3",
            "linecolor": "#A2B1C6",
            "ticks": ""
           },
           "bgcolor": "white",
           "caxis": {
            "gridcolor": "#DFE8F3",
            "linecolor": "#A2B1C6",
            "ticks": ""
           }
          },
          "title": {
           "x": 0.05
          },
          "xaxis": {
           "automargin": true,
           "gridcolor": "#EBF0F8",
           "linecolor": "#EBF0F8",
           "ticks": "",
           "title": {
            "standoff": 15
           },
           "zerolinecolor": "#EBF0F8",
           "zerolinewidth": 2
          },
          "yaxis": {
           "automargin": true,
           "gridcolor": "#EBF0F8",
           "linecolor": "#EBF0F8",
           "ticks": "",
           "title": {
            "standoff": 15
           },
           "zerolinecolor": "#EBF0F8",
           "zerolinewidth": 2
          }
         }
        },
        "title": {
         "text": "KNN Imputation in 3D with Neighbor and Orthogonal Connections"
        },
        "width": 1400
       }
      },
      "image/png": "[encoded data removed]"
     },
     "metadata": {},
     "output_type": "display_data"
    }
   ],
   "source": [
    "# Larger sample dataset with missing values\n",
    "data = {\n",
    "    'ESG_Score':         [50,     np.nan, 75,     85, np.nan, 60,     90, 95,     65, np.nan, 60],\n",
    "    'Environment_Score': [30,     40,     np.nan, 70, 60,     np.nan, 95, 80,     55, 45,     90],\n",
    "    'Social_Score':      [np.nan, 55,     60,     65, 50,     75,     85, np.nan, 60, 70,     80]\n",
    "}\n",
    "\n",
    "df = pd.DataFrame(data)\n",
    "\n",
    "# Apply KNN Imputation\n",
    "knn_imputer = KNNImputer(n_neighbors=2)\n",
    "df_imputed = pd.DataFrame(knn_imputer.fit_transform(df), columns=df.columns)\n",
    "\n",
    "# Separate imputed points\n",
    "imputed_mask = df.isnull().any(axis=1)\n",
    "df_imputed['Imputed'] = imputed_mask\n",
    "\n",
    "# Convert DataFrame to NumPy array for NearestNeighbors\n",
    "non_imputed_data = df_imputed[~imputed_mask][['ESG_Score', 'Environment_Score', 'Social_Score']].values\n",
    "\n",
    "# Fit NearestNeighbors using the non-imputed points\n",
    "knn = NearestNeighbors(n_neighbors=2)\n",
    "knn.fit(non_imputed_data)  # Fit on the non-imputed data as a NumPy array\n",
    "\n",
    "# Create a 3D scatter plot with connections to neighbors\n",
    "fig = make_subplots(\n",
    "    rows=1, cols=2,\n",
    "    specs=[[{'type': 'scatter3d'}, {'type': 'scatter3d'}]],\n",
    "    subplot_titles=(\"Original Data with Missing Values\", \"Data after KNN Imputation with Neighbor and Plane Connections\")\n",
    ")\n",
    "\n",
    "# 3D scatter for original data (with missing values)\n",
    "fig.add_trace(\n",
    "    go.Scatter3d(\n",
    "        x=df['ESG_Score'],\n",
    "        y=df['Environment_Score'],\n",
    "        z=df['Social_Score'],\n",
    "        mode='markers',\n",
    "        name='Original Data',\n",
    "        marker=dict(color='blue', size=5),\n",
    "        text=['Original' for _ in range(len(df))]\n",
    "    ),\n",
    "    row=1, col=1\n",
    ")\n",
    "\n",
    "# 3D scatter for non-imputed data (after imputation)\n",
    "fig.add_trace(\n",
    "    go.Scatter3d(\n",
    "        x=df_imputed.loc[~imputed_mask, 'ESG_Score'],\n",
    "        y=df_imputed.loc[~imputed_mask, 'Environment_Score'],\n",
    "        z=df_imputed.loc[~imputed_mask, 'Social_Score'],\n",
    "        mode='markers',\n",
    "        name='Non-Imputed Data (After Imputation)',\n",
    "        marker=dict(color='green', size=5),\n",
    "        text=['Non-Imputed' for _ in range(sum(~imputed_mask))]\n",
    "    ),\n",
    "    row=1, col=2\n",
    ")\n",
    "\n",
    "# 3D scatter for imputed points\n",
    "fig.add_trace(\n",
    "    go.Scatter3d(\n",
    "        x=df_imputed.loc[imputed_mask, 'ESG_Score'],\n",
    "        y=df_imputed.loc[imputed_mask, 'Environment_Score'],\n",
    "        z=df_imputed.loc[imputed_mask, 'Social_Score'],\n",
    "        mode='markers',\n",
    "        name='Imputed Data',\n",
    "        marker=dict(color='red', size=2, symbol='x'),\n",
    "        text=['Imputed' for _ in range(sum(imputed_mask))]\n",
    "    ),\n",
    "    row=1, col=2\n",
    ")\n",
    "\n",
    "# Connect imputed points to their nearest neighbors using light grey lines\n",
    "for i, (x_imputed, y_imputed, z_imputed) in df_imputed.loc[imputed_mask, ['ESG_Score', 'Environment_Score', 'Social_Score']].iterrows():\n",
    "    # Find the nearest neighbors of the imputed point\n",
    "    distances, neighbors = knn.kneighbors([[x_imputed, y_imputed, z_imputed]])\n",
    "    \n",
    "    for neighbor_idx in neighbors[0]:\n",
    "        x_neighbor = df_imputed.loc[~imputed_mask].iloc[neighbor_idx]['ESG_Score']\n",
    "        y_neighbor = df_imputed.loc[~imputed_mask].iloc[neighbor_idx]['Environment_Score']\n",
    "        z_neighbor = df_imputed.loc[~imputed_mask].iloc[neighbor_idx]['Social_Score']\n",
    "        \n",
    "        # Draw a line from the imputed point to the neighbor\n",
    "        fig.add_trace(\n",
    "            go.Scatter3d(\n",
    "                x=[x_imputed, x_neighbor],\n",
    "                y=[y_imputed, y_neighbor],\n",
    "                z=[z_imputed, z_neighbor],\n",
    "                mode='lines',\n",
    "                line=dict(color='lightgrey', width=2),\n",
    "                showlegend=False\n",
    "            ),\n",
    "            row=1, col=2\n",
    "        )\n",
    "\n",
    "# Add orthogonal lines anchoring each imputed point to the plane where they have non-missing coordinates\n",
    "for i, (x_imputed, y_imputed, z_imputed) in df_imputed.loc[imputed_mask, ['ESG_Score', 'Environment_Score', 'Social_Score']].iterrows():\n",
    "    # If ESG_Score was missing, connect it to the plane of Environment_Score and Social_Score\n",
    "    if pd.isna(df.loc[i, 'ESG_Score']):\n",
    "        fig.add_trace(\n",
    "            go.Scatter3d(\n",
    "                x=[0, x_imputed], y=[y_imputed, y_imputed], z=[z_imputed, z_imputed],\n",
    "                mode='lines',\n",
    "                line=dict(color='orange', width=2),\n",
    "                showlegend=False\n",
    "            ),\n",
    "            row=1, col=2\n",
    "        )\n",
    "    # If Environment_Score was missing, connect it to the plane of ESG_Score and Social_Score\n",
    "    if pd.isna(df.loc[i, 'Environment_Score']):\n",
    "        fig.add_trace(\n",
    "            go.Scatter3d(\n",
    "                x=[x_imputed, x_imputed], y=[0, y_imputed], z=[z_imputed, z_imputed],\n",
    "                mode='lines',\n",
    "                line=dict(color='orange', width=2),\n",
    "                showlegend=False\n",
    "            ),\n",
    "            row=1, col=2\n",
    "        )\n",
    "    # If Social_Score was missing, connect it to the plane of ESG_Score and Environment_Score\n",
    "    if pd.isna(df.loc[i, 'Social_Score']):\n",
    "        fig.add_trace(\n",
    "            go.Scatter3d(\n",
    "                x=[x_imputed, x_imputed], y=[y_imputed, y_imputed], z=[0, z_imputed],\n",
    "                mode='lines',\n",
    "                line=dict(color='orange', width=2),\n",
    "                showlegend=False\n",
    "            ),\n",
    "            row=1, col=2\n",
    "        )\n",
    "\n",
    "# Update layout for better visualization\n",
    "fig.update_layout(\n",
    "    title_text=\"KNN Imputation in 3D with Neighbor and Orthogonal Connections\",\n",
    "    width=1400,\n",
    "    height=800,\n",
    "    scene=dict(\n",
    "        xaxis_title=\"ESG Score\",\n",
    "        yaxis_title=\"Environment Score\",\n",
    "        zaxis_title=\"Social Score\"\n",
    "    ),\n",
    "    scene2=dict(\n",
    "        xaxis_title=\"ESG Score\",\n",
    "        yaxis_title=\"Environment Score\",\n",
    "        zaxis_title=\"Social Score\"\n",
    "    ),\n",
    "    legend_title=\"Data Type\",\n",
    "    template=\"plotly_white\"\n",
    ")\n",
    "\n",
    "# Show the plot\n",
    "fig.show()\n"
   ]
  },
  {
   "cell_type": "code",
   "execution_count": 15,
   "id": "8bc50f00-ec5c-453d-aba4-438f804d374d",
   "metadata": {},
   "outputs": [
    {
     "data": {
      "text/html": [
       "<div>\n",
       "<style scoped>\n",
       "    .dataframe tbody tr th:only-of-type {\n",
       "        vertical-align: middle;\n",
       "    }\n",
       "\n",
       "    .dataframe tbody tr th {\n",
       "        vertical-align: top;\n",
       "    }\n",
       "\n",
       "    .dataframe thead th {\n",
       "        text-align: right;\n",
       "    }\n",
       "</style>\n",
       "<table border=\"1\" class=\"dataframe\">\n",
       "  <thead>\n",
       "    <tr style=\"text-align: right;\">\n",
       "      <th></th>\n",
       "      <th>ESG_Score</th>\n",
       "      <th>Environment_Score</th>\n",
       "      <th>Social_Score</th>\n",
       "    </tr>\n",
       "  </thead>\n",
       "  <tbody>\n",
       "    <tr>\n",
       "      <th>0</th>\n",
       "      <td>50.0</td>\n",
       "      <td>30.0</td>\n",
       "      <td>NaN</td>\n",
       "    </tr>\n",
       "    <tr>\n",
       "      <th>1</th>\n",
       "      <td>NaN</td>\n",
       "      <td>40.0</td>\n",
       "      <td>55.0</td>\n",
       "    </tr>\n",
       "    <tr>\n",
       "      <th>2</th>\n",
       "      <td>75.0</td>\n",
       "      <td>NaN</td>\n",
       "      <td>60.0</td>\n",
       "    </tr>\n",
       "    <tr>\n",
       "      <th>3</th>\n",
       "      <td>85.0</td>\n",
       "      <td>70.0</td>\n",
       "      <td>65.0</td>\n",
       "    </tr>\n",
       "    <tr>\n",
       "      <th>4</th>\n",
       "      <td>NaN</td>\n",
       "      <td>60.0</td>\n",
       "      <td>50.0</td>\n",
       "    </tr>\n",
       "    <tr>\n",
       "      <th>5</th>\n",
       "      <td>60.0</td>\n",
       "      <td>NaN</td>\n",
       "      <td>75.0</td>\n",
       "    </tr>\n",
       "    <tr>\n",
       "      <th>6</th>\n",
       "      <td>90.0</td>\n",
       "      <td>95.0</td>\n",
       "      <td>85.0</td>\n",
       "    </tr>\n",
       "    <tr>\n",
       "      <th>7</th>\n",
       "      <td>95.0</td>\n",
       "      <td>80.0</td>\n",
       "      <td>NaN</td>\n",
       "    </tr>\n",
       "    <tr>\n",
       "      <th>8</th>\n",
       "      <td>65.0</td>\n",
       "      <td>55.0</td>\n",
       "      <td>60.0</td>\n",
       "    </tr>\n",
       "    <tr>\n",
       "      <th>9</th>\n",
       "      <td>NaN</td>\n",
       "      <td>45.0</td>\n",
       "      <td>70.0</td>\n",
       "    </tr>\n",
       "    <tr>\n",
       "      <th>10</th>\n",
       "      <td>60.0</td>\n",
       "      <td>90.0</td>\n",
       "      <td>80.0</td>\n",
       "    </tr>\n",
       "  </tbody>\n",
       "</table>\n",
       "</div>"
      ],
      "text/plain": [
       "    ESG_Score  Environment_Score  Social_Score\n",
       "0        50.0               30.0           NaN\n",
       "1         NaN               40.0          55.0\n",
       "2        75.0                NaN          60.0\n",
       "3        85.0               70.0          65.0\n",
       "4         NaN               60.0          50.0\n",
       "5        60.0                NaN          75.0\n",
       "6        90.0               95.0          85.0\n",
       "7        95.0               80.0           NaN\n",
       "8        65.0               55.0          60.0\n",
       "9         NaN               45.0          70.0\n",
       "10       60.0               90.0          80.0"
      ]
     },
     "execution_count": 15,
     "metadata": {},
     "output_type": "execute_result"
    }
   ],
   "source": [
    "df"
   ]
  },
  {
   "cell_type": "code",
   "execution_count": null,
   "id": "56628045-9a65-410b-a6ad-79c9598198a8",
   "metadata": {},
   "outputs": [],
   "source": []
  }
 ],
 "metadata": {
  "kernelspec": {
   "display_name": "Python 3 (ipykernel)",
   "language": "python",
   "name": "python3"
  },
  "language_info": {
   "codemirror_mode": {
    "name": "ipython",
    "version": 3
   },
   "file_extension": ".py",
   "mimetype": "text/x-python",
   "name": "python",
   "nbconvert_exporter": "python",
   "pygments_lexer": "ipython3",
   "version": "3.11.13"
  }
 },
 "nbformat": 4,
 "nbformat_minor": 5
}
